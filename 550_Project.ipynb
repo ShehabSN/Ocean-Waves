{
  "cells": [
    {
      "cell_type": "markdown",
      "metadata": {
        "id": "view-in-github",
        "colab_type": "text"
      },
      "source": [
        "<a href=\"https://colab.research.google.com/github/ShehabSN/Ocean-Waves/blob/master/550_Project.ipynb\" target=\"_parent\"><img src=\"https://colab.research.google.com/assets/colab-badge.svg\" alt=\"Open In Colab\"/></a>"
      ]
    },
    {
      "cell_type": "code",
      "execution_count": null,
      "metadata": {
        "colab": {
          "base_uri": "https://localhost:8080/"
        },
        "id": "NTm9WN-RskwW",
        "outputId": "dbaeb54e-4706-415b-e01c-fc043953cea9"
      },
      "outputs": [
        {
          "output_type": "stream",
          "name": "stdout",
          "text": [
            "Drive already mounted at /content/drive; to attempt to forcibly remount, call drive.mount(\"/content/drive\", force_remount=True).\n"
          ]
        }
      ],
      "source": [
        "from google.colab import drive\n",
        "drive.mount('/content/drive')"
      ]
    },
    {
      "cell_type": "code",
      "execution_count": null,
      "metadata": {
        "id": "H3X7obczsuMh"
      },
      "outputs": [],
      "source": [
        "!apt-get install openjdk-8-jdk-headless -qq > /dev/null"
      ]
    },
    {
      "cell_type": "code",
      "execution_count": null,
      "metadata": {
        "id": "vcA-u6qRtKHH"
      },
      "outputs": [],
      "source": [
        "!wget -q https://www.apache.org/dyn/closer.lua/spark/spark-3.2.2/spark-3.2.2-bin-hadoop3.2.tgz"
      ]
    },
    {
      "cell_type": "code",
      "source": [
        "!ls"
      ],
      "metadata": {
        "colab": {
          "base_uri": "https://localhost:8080/"
        },
        "id": "t1eiSFWV-pkC",
        "outputId": "d149ed9d-ff92-4df8-c848-df054ae97c35"
      },
      "execution_count": null,
      "outputs": [
        {
          "output_type": "stream",
          "name": "stdout",
          "text": [
            "drive\t\t\t\tspark-3.0.1-bin-hadoop2.7\n",
            "ngrok\t\t\t\tspark-3.0.1-bin-hadoop2.7.tgz\n",
            "ngrok-stable-linux-amd64.zip\tspark-3.2.2-bin-hadoop3.2.tgz\n",
            "ngrok-stable-linux-amd64.zip.1\tspark-3.3.1-bin-hadoop2.tgz\n",
            "sample_data\t\t\tspark-3.3.1-bin-hadoop3.tgz\n"
          ]
        }
      ]
    },
    {
      "cell_type": "code",
      "execution_count": null,
      "metadata": {
        "id": "6gEeGAXltRzf",
        "colab": {
          "base_uri": "https://localhost:8080/"
        },
        "outputId": "8b893202-2d6e-4982-ee61-e0fdbdbf6bef"
      },
      "outputs": [
        {
          "output_type": "stream",
          "name": "stdout",
          "text": [
            "\n",
            "gzip: stdin: not in gzip format\n",
            "tar: Child returned status 1\n",
            "tar: Error is not recoverable: exiting now\n"
          ]
        }
      ],
      "source": [
        "!tar xf spark-3.2.2-bin-hadoop3.2.tgz"
      ]
    },
    {
      "cell_type": "code",
      "execution_count": null,
      "metadata": {
        "id": "Klfm3Oqfta53"
      },
      "outputs": [],
      "source": [
        "!pip install -q findspark"
      ]
    },
    {
      "cell_type": "code",
      "execution_count": null,
      "metadata": {
        "id": "9R-qG5YFvYu_"
      },
      "outputs": [],
      "source": [
        "import os\n",
        "os.environ[\"JAVA_HOME\"] = \"/usr/lib/jvm/java-8-openjdk-amd64\"\n",
        "os.environ[\"SPARK_HOME\"] = \"/content/spark-3.0.1-bin-hadoop2.7\""
      ]
    },
    {
      "cell_type": "code",
      "execution_count": null,
      "metadata": {
        "id": "w3wIhywHveTD"
      },
      "outputs": [],
      "source": [
        "import findspark\n",
        "findspark.init()"
      ]
    },
    {
      "cell_type": "code",
      "execution_count": null,
      "metadata": {
        "colab": {
          "base_uri": "https://localhost:8080/"
        },
        "id": "F1YwKQHwvgxZ",
        "outputId": "844f2524-6be6-459b-d7e1-d865b548fd46"
      },
      "outputs": [
        {
          "output_type": "stream",
          "name": "stdout",
          "text": [
            "Looking in indexes: https://pypi.org/simple, https://us-python.pkg.dev/colab-wheels/public/simple/\n",
            "Requirement already satisfied: pyspark in /usr/local/lib/python3.7/dist-packages (3.3.1)\n",
            "Requirement already satisfied: py4j==0.10.9.5 in /usr/local/lib/python3.7/dist-packages (from pyspark) (0.10.9.5)\n"
          ]
        }
      ],
      "source": [
        "!pip install pyspark"
      ]
    },
    {
      "cell_type": "code",
      "source": [
        "!pip install pyspark[pandas_on_spark] plotly"
      ],
      "metadata": {
        "colab": {
          "base_uri": "https://localhost:8080/"
        },
        "id": "rh7tQDz1_x0U",
        "outputId": "e19288a1-19de-4750-bf16-4ea3efd86c9d"
      },
      "execution_count": null,
      "outputs": [
        {
          "output_type": "stream",
          "name": "stdout",
          "text": [
            "Looking in indexes: https://pypi.org/simple, https://us-python.pkg.dev/colab-wheels/public/simple/\n",
            "Requirement already satisfied: pyspark[pandas_on_spark] in /usr/local/lib/python3.7/dist-packages (3.3.1)\n",
            "Requirement already satisfied: plotly in /usr/local/lib/python3.7/dist-packages (5.5.0)\n",
            "Requirement already satisfied: tenacity>=6.2.0 in /usr/local/lib/python3.7/dist-packages (from plotly) (8.1.0)\n",
            "Requirement already satisfied: six in /usr/local/lib/python3.7/dist-packages (from plotly) (1.15.0)\n",
            "Requirement already satisfied: py4j==0.10.9.5 in /usr/local/lib/python3.7/dist-packages (from pyspark[pandas_on_spark]) (0.10.9.5)\n",
            "Requirement already satisfied: pyarrow>=1.0.0 in /usr/local/lib/python3.7/dist-packages (from pyspark[pandas_on_spark]) (9.0.0)\n",
            "Requirement already satisfied: pandas>=1.0.5 in /usr/local/lib/python3.7/dist-packages (from pyspark[pandas_on_spark]) (1.3.5)\n",
            "Requirement already satisfied: numpy>=1.15 in /usr/local/lib/python3.7/dist-packages (from pyspark[pandas_on_spark]) (1.21.6)\n",
            "Requirement already satisfied: python-dateutil>=2.7.3 in /usr/local/lib/python3.7/dist-packages (from pandas>=1.0.5->pyspark[pandas_on_spark]) (2.8.2)\n",
            "Requirement already satisfied: pytz>=2017.3 in /usr/local/lib/python3.7/dist-packages (from pandas>=1.0.5->pyspark[pandas_on_spark]) (2022.6)\n"
          ]
        }
      ]
    },
    {
      "cell_type": "code",
      "execution_count": null,
      "metadata": {
        "id": "Qtzh2qX8w3f4"
      },
      "outputs": [],
      "source": [
        "from pyspark.sql import SparkSession\n",
        "\n",
        "spark = SparkSession.builder.master(\"local[*]\").getOrCreate()"
      ]
    },
    {
      "cell_type": "code",
      "execution_count": null,
      "metadata": {
        "colab": {
          "base_uri": "https://localhost:8080/",
          "height": 216
        },
        "id": "BSzlkCZ_xffl",
        "outputId": "e7a0dd15-6ff8-4066-b48d-4286b8016fe5"
      },
      "outputs": [
        {
          "output_type": "execute_result",
          "data": {
            "text/plain": [
              "<pyspark.sql.session.SparkSession at 0x7f55ecb45b50>"
            ],
            "text/html": [
              "\n",
              "            <div>\n",
              "                <p><b>SparkSession - in-memory</b></p>\n",
              "                \n",
              "        <div>\n",
              "            <p><b>SparkContext</b></p>\n",
              "\n",
              "            <p><a href=\"http://73e04aff5d7a:4040\">Spark UI</a></p>\n",
              "\n",
              "            <dl>\n",
              "              <dt>Version</dt>\n",
              "                <dd><code>v3.3.1</code></dd>\n",
              "              <dt>Master</dt>\n",
              "                <dd><code>local[*]</code></dd>\n",
              "              <dt>AppName</dt>\n",
              "                <dd><code>pyspark-shell</code></dd>\n",
              "            </dl>\n",
              "        </div>\n",
              "        \n",
              "            </div>\n",
              "        "
            ]
          },
          "metadata": {},
          "execution_count": 6
        }
      ],
      "source": [
        "spark"
      ]
    },
    {
      "cell_type": "code",
      "execution_count": null,
      "metadata": {
        "colab": {
          "base_uri": "https://localhost:8080/"
        },
        "id": "ddNizMvwxjRH",
        "outputId": "b2395597-bd75-4af9-a0b7-694d03f7f897"
      },
      "outputs": [
        {
          "output_type": "stream",
          "name": "stdout",
          "text": [
            "--2022-11-28 01:10:48--  https://bin.equinox.io/c/4VmDzA7iaHb/ngrok-stable-linux-amd64.zip\n",
            "Resolving bin.equinox.io (bin.equinox.io)... 54.161.241.46, 52.202.168.65, 18.205.222.128, ...\n",
            "Connecting to bin.equinox.io (bin.equinox.io)|54.161.241.46|:443... connected.\n",
            "HTTP request sent, awaiting response... 200 OK\n",
            "Length: 13832437 (13M) [application/octet-stream]\n",
            "Saving to: ‘ngrok-stable-linux-amd64.zip.1’\n",
            "\n",
            "ngrok-stable-linux- 100%[===================>]  13.19M  19.6MB/s    in 0.7s    \n",
            "\n",
            "2022-11-28 01:10:49 (19.6 MB/s) - ‘ngrok-stable-linux-amd64.zip.1’ saved [13832437/13832437]\n",
            "\n",
            "Archive:  ngrok-stable-linux-amd64.zip\n",
            "replace ngrok? [y]es, [n]o, [A]ll, [N]one, [r]ename: y\n",
            "  inflating: ngrok                   \n",
            "{\"tunnels\":[{\"name\":\"command_line\",\"uri\":\"/api/tunnels/command_line\",\"public_url\":\"https://8cf6-34-125-240-13.ngrok.io\",\"proto\":\"https\",\"config\":{\"addr\":\"http://localhost:4050\",\"inspect\":true},\"metrics\":{\"conns\":{\"count\":0,\"gauge\":0,\"rate1\":0,\"rate5\":0,\"rate15\":0,\"p50\":0,\"p90\":0,\"p95\":0,\"p99\":0},\"http\":{\"count\":0,\"rate1\":0,\"rate5\":0,\"rate15\":0,\"p50\":0,\"p90\":0,\"p95\":0,\"p99\":0}}},{\"name\":\"command_line (http)\",\"uri\":\"/api/tunnels/command_line%20%28http%29\",\"public_url\":\"http://8cf6-34-125-240-13.ngrok.io\",\"proto\":\"http\",\"config\":{\"addr\":\"http://localhost:4050\",\"inspect\":true},\"metrics\":{\"conns\":{\"count\":0,\"gauge\":0,\"rate1\":0,\"rate5\":0,\"rate15\":0,\"p50\":0,\"p90\":0,\"p95\":0,\"p99\":0},\"http\":{\"count\":0,\"rate1\":0,\"rate5\":0,\"rate15\":0,\"p50\":0,\"p90\":0,\"p95\":0,\"p99\":0}}}],\"uri\":\"/api/tunnels\"}\n"
          ]
        }
      ],
      "source": [
        "!wget https://bin.equinox.io/c/4VmDzA7iaHb/ngrok-stable-linux-amd64.zip\n",
        "!unzip ngrok-stable-linux-amd64.zip\n",
        "get_ipython().system_raw('./ngrok http 4050 &')\n",
        "!curl -s http://localhost:4040/api/tunnels"
      ]
    },
    {
      "cell_type": "code",
      "execution_count": null,
      "metadata": {
        "id": "Y3gMQhzxxtWw",
        "colab": {
          "base_uri": "https://localhost:8080/"
        },
        "outputId": "67b97dd2-ee7c-42fb-e772-e6372afe37d6"
      },
      "outputs": [
        {
          "output_type": "stream",
          "name": "stdout",
          "text": [
            "UScomments.csv\tUSvideos.csv\n"
          ]
        }
      ],
      "source": [
        "!ls drive/MyDrive/SENG550"
      ]
    },
    {
      "cell_type": "markdown",
      "source": [
        "## EDA of USComments.csv"
      ],
      "metadata": {
        "id": "FunLbtTF0A4I"
      }
    },
    {
      "cell_type": "code",
      "source": [
        "df_comments = spark.read.csv(\"drive/MyDrive/SENG550/UScomments.csv\", header=True, inferSchema=True)"
      ],
      "metadata": {
        "id": "T6P8y5-Py0OO"
      },
      "execution_count": null,
      "outputs": []
    },
    {
      "cell_type": "code",
      "source": [
        "df_comments.printSchema()"
      ],
      "metadata": {
        "colab": {
          "base_uri": "https://localhost:8080/"
        },
        "id": "aH9QclDrzZas",
        "outputId": "d9603b06-e4b9-4dbb-be9c-aece1f5671b5"
      },
      "execution_count": null,
      "outputs": [
        {
          "output_type": "stream",
          "name": "stdout",
          "text": [
            "root\n",
            " |-- video_id: string (nullable = true)\n",
            " |-- comment_text: string (nullable = true)\n",
            " |-- likes: string (nullable = true)\n",
            " |-- replies: string (nullable = true)\n",
            "\n"
          ]
        }
      ]
    },
    {
      "cell_type": "code",
      "source": [
        "df_comments.show(5)"
      ],
      "metadata": {
        "colab": {
          "base_uri": "https://localhost:8080/"
        },
        "id": "93F_UwAjze5K",
        "outputId": "969524e6-ab69-4430-b769-dc1bfa89ce3e"
      },
      "execution_count": null,
      "outputs": [
        {
          "output_type": "stream",
          "name": "stdout",
          "text": [
            "+-----------+--------------------+-----+-------+\n",
            "|   video_id|        comment_text|likes|replies|\n",
            "+-----------+--------------------+-----+-------+\n",
            "|XpVt6Z1Gjjo|Logan Paul it's y...|    4|      0|\n",
            "|XpVt6Z1Gjjo|I've been followi...|    3|      0|\n",
            "|XpVt6Z1Gjjo|Say hi to Kong an...|    3|      0|\n",
            "|XpVt6Z1Gjjo| MY FAN . attendance|    3|      0|\n",
            "|XpVt6Z1Gjjo|         trending 😉|    3|      0|\n",
            "+-----------+--------------------+-----+-------+\n",
            "only showing top 5 rows\n",
            "\n"
          ]
        }
      ]
    },
    {
      "cell_type": "code",
      "source": [
        "df_comments.count()"
      ],
      "metadata": {
        "colab": {
          "base_uri": "https://localhost:8080/"
        },
        "id": "WxA7a4OZzu7w",
        "outputId": "50f360b7-b14b-477f-ba75-09b005e47aa9"
      },
      "execution_count": null,
      "outputs": [
        {
          "output_type": "execute_result",
          "data": {
            "text/plain": [
              "691722"
            ]
          },
          "metadata": {},
          "execution_count": 11
        }
      ]
    },
    {
      "cell_type": "markdown",
      "source": [
        "### Removing comments that are empty"
      ],
      "metadata": {
        "id": "7Dx2YNW46MmN"
      }
    },
    {
      "cell_type": "code",
      "source": [
        "from pyspark.sql.functions import trim\n",
        "df_comments = df_comments.withColumn(\"comment_text\", trim(df_comments.comment_text))\n",
        "df_comments.filter(df_comments.comment_text != \"\").describe().show()"
      ],
      "metadata": {
        "colab": {
          "base_uri": "https://localhost:8080/"
        },
        "id": "CGrbqqCjz0fo",
        "outputId": "27fd2f7b-8509-4a12-ac71-9f895dd21a30"
      },
      "execution_count": null,
      "outputs": [
        {
          "output_type": "stream",
          "name": "stdout",
          "text": [
            "+-------+-----------+--------------------+--------------------+-------------------+\n",
            "|summary|   video_id|        comment_text|               likes|            replies|\n",
            "+-------+-----------+--------------------+--------------------+-------------------+\n",
            "|  count|     691678|              691678|              691351|             691319|\n",
            "|   mean|       null|1.316029143897996...|  5.8218546351412925|0.42557934326630986|\n",
            "| stddev|       null|2.055703238922607...|  243.21092767690746|  9.923868799122848|\n",
            "|    min|--JinobXWPk|                   !|  but you want to...|           Breakups|\n",
            "|    max|zyPIdeF4NFI|                  🧢|todas as musicas ...|            replies|\n",
            "+-------+-----------+--------------------+--------------------+-------------------+\n",
            "\n"
          ]
        }
      ]
    },
    {
      "cell_type": "markdown",
      "source": [
        "## EDA of USVideos.csv"
      ],
      "metadata": {
        "id": "V0ScO_4A0VTH"
      }
    },
    {
      "cell_type": "code",
      "source": [
        "df_videos = spark.read.csv(\"drive/MyDrive/SENG550/USvideos.csv\", header=True, inferSchema=True)"
      ],
      "metadata": {
        "id": "mIWao77Kz6nL"
      },
      "execution_count": null,
      "outputs": []
    },
    {
      "cell_type": "code",
      "source": [
        "df_videos.printSchema()"
      ],
      "metadata": {
        "colab": {
          "base_uri": "https://localhost:8080/"
        },
        "id": "wJUZ_rgl0UkC",
        "outputId": "ae514356-692f-46ce-cf6e-a78ada68471d"
      },
      "execution_count": null,
      "outputs": [
        {
          "output_type": "stream",
          "name": "stdout",
          "text": [
            "root\n",
            " |-- video_id: string (nullable = true)\n",
            " |-- title: string (nullable = true)\n",
            " |-- channel_title: string (nullable = true)\n",
            " |-- category_id: integer (nullable = true)\n",
            " |-- tags: string (nullable = true)\n",
            " |-- views: integer (nullable = true)\n",
            " |-- likes: integer (nullable = true)\n",
            " |-- dislikes: integer (nullable = true)\n",
            " |-- comment_total: integer (nullable = true)\n",
            " |-- thumbnail_link: string (nullable = true)\n",
            " |-- date: string (nullable = true)\n",
            "\n"
          ]
        }
      ]
    },
    {
      "cell_type": "code",
      "source": [
        "df_videos.show(5)"
      ],
      "metadata": {
        "colab": {
          "base_uri": "https://localhost:8080/"
        },
        "id": "7jU4ZMha0cPc",
        "outputId": "29dc04c8-62bc-473c-cea4-d87961d861e3"
      },
      "execution_count": null,
      "outputs": [
        {
          "output_type": "stream",
          "name": "stdout",
          "text": [
            "+-----------+--------------------+----------------+-----------+--------------------+-------+------+--------+-------------+--------------------+-----+\n",
            "|   video_id|               title|   channel_title|category_id|                tags|  views| likes|dislikes|comment_total|      thumbnail_link| date|\n",
            "+-----------+--------------------+----------------+-----------+--------------------+-------+------+--------+-------------+--------------------+-----+\n",
            "|XpVt6Z1Gjjo|1 YEAR OF VLOGGIN...|Logan Paul Vlogs|         24|logan paul vlog|l...|4394029|320053|    5931|        46245|https://i.ytimg.c...|13.09|\n",
            "|K4wEI5zhHB0|iPhone X — Introd...|           Apple|         28|Apple|iPhone 10|i...|7860119|185853|   26679|            0|https://i.ytimg.c...|13.09|\n",
            "|cLdxuaxaQwc|         My Response|       PewDiePie|         22|              [none]|5845909|576597|   39774|       170708|https://i.ytimg.c...|13.09|\n",
            "|WYYvHb03Eog|Apple iPhone X fi...|       The Verge|         28|apple iphone x ha...|2642103| 24975|    4542|        12829|https://i.ytimg.c...|13.09|\n",
            "|sjlHnJvXdQs|   iPhone X (parody)|      jacksfilms|         23|jacksfilms|parody...|1168130| 96666|     568|         6666|https://i.ytimg.c...|13.09|\n",
            "+-----------+--------------------+----------------+-----------+--------------------+-------+------+--------+-------------+--------------------+-----+\n",
            "only showing top 5 rows\n",
            "\n"
          ]
        }
      ]
    },
    {
      "cell_type": "code",
      "source": [
        "df_videos.count()"
      ],
      "metadata": {
        "colab": {
          "base_uri": "https://localhost:8080/"
        },
        "id": "3Zb0OX_u0eHT",
        "outputId": "fbf3e2e2-a1ee-4f78-9001-888a2d81b488"
      },
      "execution_count": null,
      "outputs": [
        {
          "output_type": "execute_result",
          "data": {
            "text/plain": [
              "7998"
            ]
          },
          "metadata": {},
          "execution_count": 16
        }
      ]
    },
    {
      "cell_type": "code",
      "source": [
        "df_videos.select(\"views\", \"likes\", \"dislikes\", \"comment_total\").describe().show()"
      ],
      "metadata": {
        "colab": {
          "base_uri": "https://localhost:8080/"
        },
        "id": "BRqioooi0f9E",
        "outputId": "73d922f1-feb4-456d-ec17-6b4d08918ee7"
      },
      "execution_count": null,
      "outputs": [
        {
          "output_type": "stream",
          "name": "stdout",
          "text": [
            "+-------+------------------+-----------------+------------------+------------------+\n",
            "|summary|             views|            likes|          dislikes|     comment_total|\n",
            "+-------+------------------+-----------------+------------------+------------------+\n",
            "|  count|              7998|             7998|              7998|              7998|\n",
            "|   mean| 939101.5788947237|34508.99662415604|1780.8427106776694|4608.3069517379345|\n",
            "| stddev|2147690.9737737444|91354.65417594886|10818.085919717001|20245.638963905905|\n",
            "|    min|                 0|                0|                 0|                 0|\n",
            "|    max|          41500672|          2010366|            318404|            736179|\n",
            "+-------+------------------+-----------------+------------------+------------------+\n",
            "\n"
          ]
        }
      ]
    },
    {
      "cell_type": "markdown",
      "source": [
        "### Drop the videos with 0 views or comments"
      ],
      "metadata": {
        "id": "fhwYzxnF2nbk"
      }
    },
    {
      "cell_type": "code",
      "source": [
        "df_videos_filtered = df_videos.filter(df_videos.views != 0) \n",
        "df_videos_filtered = df_videos_filtered.filter(df_videos.comment_total != 0)\n",
        "df_videos_filtered.select(\"views\", \"likes\", \"dislikes\", \"comment_total\").describe().show()"
      ],
      "metadata": {
        "colab": {
          "base_uri": "https://localhost:8080/"
        },
        "id": "mLO7hMQc0jXt",
        "outputId": "bf5d08f1-22bb-463d-f782-ad4c27519b9a"
      },
      "execution_count": null,
      "outputs": [
        {
          "output_type": "stream",
          "name": "stdout",
          "text": [
            "+-------+------------------+------------------+------------------+------------------+\n",
            "|summary|             views|             likes|          dislikes|     comment_total|\n",
            "+-------+------------------+------------------+------------------+------------------+\n",
            "|  count|              7744|              7744|              7744|              7744|\n",
            "|   mean|  945122.717071281|35332.907412190085|1769.5038739669421| 4759.431559917355|\n",
            "| stddev|2139395.3499542032| 92383.74832273183|10883.821532341486|20557.540603924426|\n",
            "|    min|               933|                 0|                 0|                 1|\n",
            "|    max|          41500672|           2010366|            318404|            736179|\n",
            "+-------+------------------+------------------+------------------+------------------+\n",
            "\n"
          ]
        }
      ]
    },
    {
      "cell_type": "code",
      "source": [
        "pd_df_comments = df_comments.pandas_api()\n",
        "pd_df_videos = df_videos_filtered.pandas_api()"
      ],
      "metadata": {
        "id": "8THAevFe2fYX"
      },
      "execution_count": null,
      "outputs": []
    },
    {
      "cell_type": "code",
      "source": [
        "pd_df_videos.plot.scatter(\"likes\", \"dislikes\")"
      ],
      "metadata": {
        "colab": {
          "base_uri": "https://localhost:8080/",
          "height": 542
        },
        "id": "wxtbRH3b7Yo_",
        "outputId": "74adf3ee-6475-4a5f-a0ba-d12913cda6ad"
      },
      "execution_count": null,
      "outputs": [
        {
          "output_type": "display_data",
          "data": {
            "text/html": [
              "<html>\n",
              "<head><meta charset=\"utf-8\" /></head>\n",
              "<body>\n",
              "    <div>            <script src=\"https://cdnjs.cloudflare.com/ajax/libs/mathjax/2.7.5/MathJax.js?config=TeX-AMS-MML_SVG\"></script><script type=\"text/javascript\">if (window.MathJax) {MathJax.Hub.Config({SVG: {font: \"STIX-Web\"}});}</script>                <script type=\"text/javascript\">window.PlotlyConfig = {MathJaxConfig: 'local'};</script>\n",
              "        <script src=\"https://cdn.plot.ly/plotly-2.8.3.min.js\"></script>                <div id=\"da88d4d7-4b13-4ad1-88d7-964b5924e9df\" class=\"plotly-graph-div\" style=\"height:525px; width:100%;\"></div>            <script type=\"text/javascript\">                                    window.PLOTLYENV=window.PLOTLYENV || {};                                    if (document.getElementById(\"da88d4d7-4b13-4ad1-88d7-964b5924e9df\")) {                    Plotly.newPlot(                        \"da88d4d7-4b13-4ad1-88d7-964b5924e9df\",                        [{\"hovertemplate\":\"likes=%{x}<br>dislikes=%{y}<extra></extra>\",\"legendgroup\":\"\",\"marker\":{\"color\":\"#636efa\",\"symbol\":\"circle\"},\"mode\":\"markers\",\"name\":\"\",\"orientation\":\"v\",\"showlegend\":false,\"x\":[320053,576597,24975,96666,34507,9985,74062,69687,29943,34485,28050,8085,9215,14740,18936,14870,65749,23945,7941,66420,1521,2921,21817,3498,6126,384920,16258,65730,15424,42290,19575,6218,9143,25456,39791,71,490,15314,3712,9531,19183,2070,9889,26521,74587,4389,12179,1692,19538,345,3553,61409,38823,2123,3752,14096,119,4165,141,9467,70,139,104899,17517,3858,520,13901,2032,9746,160,1619,33686,2377,6003,5080,17110,3263,15333,83,20164,942,28651,14279,26771,18023,11767,3498,4679,6300,74679,32276,123805,10918,3391,8516,83419,6156,3995,845,270,1990,19869,1158,45408,8048,11618,2405,2678,53,327,9301,41039,251,3964,57545,206,4893,8,13260,6491,13099,340,17141,1049,3337,12880,742,45,895,203,51890,183483,104,19734,87,7897,454,133824,200,24779,28,258,17,12099,20499,3606,2223,9188,38670,13343,49257,50009,15,20322,4231,23472,468636,146460,3677,49443,29748,21516,77679,51,4403,25068,9353,291383,1194,1445,1431683,73,344,64515,10084,76505,19286,50802,8909,261,24188,179085,29851,4695,20553,21302,176110,26662,7070,196,2218,11255,1801,26425,349857,30836,35880,174771,4847,32608,626155,29220,2520,128402,14539,12843,93812,11558,157,40496,10053,22897,1835,88182,34506,37881,5296,22556,33111,18228,76343,220,39886,25046,16909,485,72782,26816,9467,33015,4389,72625,4127,49500,1208,1557,1237,398514,21783,23994,498,38,2433,4857,7977,15,54551,154,223,17845,403,6501,18017,6871,35312,1939,6162,4137,67469,31544,172,10947,19477,47871,33359,3797,12990,21395,3571,25968,122,27575,3905,4598,12908,90146,569,25070,6084,3716,4296,21239,2548,1602,15485,1330,6395,68793,152,10142,14671,39488,2642,112,10871,35336,3915,16268,18534,107674,10185,11034,15377,4499,3521,18485,76,949,2153,119,15547,351,29072,112,18538,26768,12482,1749,5058,75508,4636,6617,33851,5164,11202,126897,20387,85017,6357,3442,849,270,20645,1158,58482,47168,361,2727,8057,2034,401,12329,60,41329,2408,251,3996,974,8616,224,4894,9,13560,6708,756,13019,59232,17617,3458,55,914,203,475,105,87,187251,7945,20383,135169,25976,210,29,4309,274,12221,22,20839,3644,2248,9287,39393,462,50162,21350,15,149929,7571,135734,11937,54715,9582,20278,5144,34089,746023,48069,47583,74326,22071,8424,9325,549,222514,63141,42549,361422,42471,42203,400,33617,2010,13226,5432,7105,5742,2137,1170,2130,6076,2789,15696,3312,659184,6445,3097,17804,4578,144171,107888,166,7936,14122,3602,20,2921,980,13834,608,7703,85965,19447,11843,390,6610,2432,25553,43783,299,31922,42524,2614,22,104520,10379,192,1340,8686,24364,6520,6500,1924,40807,387,203997,86493,9801,35138,20265,57,35533,38322,1115,79451,7999,43039,40292,14836,205,5693,5137,28646,10556,3045,269,78518,1558,55269,1685,430,2268,23663,4471,25617,411682,178,7258,8924,65224,46870,152,19203,36722,4298,19610,4451,20846,69240,2053,54077,1530,501,14354,24003,1051,1214,4752,6507,26435,29142,131,103685,4015,26842,2649,1654,148,2682,12581,16782,22594,180,75284,3979,6729,5118,40143,2668,10610,638,3589,36812,17028,19798,3947,1830,12305,110390,4965,10461,15427,19954,159,2186,3531,4848,2473,5329,16146,954,149,19006,13479,5847,6854,76278,5489,29658,131470,209,2870,35892,261,20699,10034,5533,391,850,6608,1023,365,86547,3334,198696,6341,7828,1207,49804,22810,3964,12692,2672,323439,3204,42116,8278,9567,16829,12671,155627,79888,115156,11494,9275,50615,66696,14306,18926,6531,950,359,64045,3440,22667,22501,232107,35833,58213,9897,956288,41128,3258,96802,23238,33124,15266,53345,31738,49951,13862,1268,8443,26,75023,246,299,59921,2793,14903,30831,1315,11123,9275,5910,247833,471,71749,3896,4776,9708,200,4829,48018,9672,7137,944,11632,26543,499,4447,2399,7870,45015,366401,683,34622,7594,2577,245,335,1481,500,8478,316,6592,8634,5028,2912,3294,152496,3376,672775,3286,15624,10480,1361,90329,1987,30469,637,36292,116464,7364,2761,45956,2272,43748,42844,3195,15128,9435,1016,25042,188,15810,6842,44538,8965,17652,37871,93363,212293,21285,14805,36839,81519,41380,44935,6017,5630,11312,7892,22,20907,11439,1238,422911,29584,4878,2777,58282,82510,73825,1262,5936,1695,26710,24567,6696,182,61212,9581,2208,3156,215,12930,453,1604,1586,4704,169,4749,37556,5011,20794,7930,302,1157,14984,1719,21584,1608,58956,26495,70200,501,4073,30373,26725,235,111619,1607,27542,27950,2846,132,146,2814,105292,249525,13331,333571,69585,4449,3239,14225,36062,11561,13740,8850,111571,129744,61918,258,9381,20614,1757,2159,33856,96479,5195,6019,3690,26492,4174,14943,52876,10897,25885,11518,4655,1898,361052,5203,12799,713,164754,86214,12609,2039,803,422,277868,131981,21171,6143,62776,1132,358,4721,72029,12924,20113,4244,7037,2091,15926,35824,74611,288,48988,1532,65212,23900,23184,1013883,108832,37495,9772,26026,19325,59110,56452,15786,14093,16175,3135,1877,8837,79919,734,11310,32794,37115,12106,617,4391,1227,474,6633,259507,12440,1332,75361,180,398,49377,4806,4761,7205,9023,8583,9978,2616,28204,7910,271,46801,26,369963,8099,35111,3158,2119,208,3683,3553,6830,726,21111,2008,5362,3447,10554,2615,687381,157883,10156,7823,1471,2410,833,92549,35004,17372,2486,1513,38699,10184,44331,123557,47051,9892,320,2918,16425,373,25418,18879,15315,39315,6848,47349,98828,3526,218697,21980,109494,8211,1032,46448,44449,12411,37539,5130,1432,6117,205,43681,3197,6246,2293,22516,60575,1247,432783,141,30520,79631,74997,2007,12246,27393,1774,38242,85408,10170,61,25299,28530,504,13284,3245,5210,28349,7696,1149,179081,151423,1073,7306,78245,7268,41867,279751,202,19278,31942,16818,415114,138872,82533,15974,764,448,103,11561,5814,39892,119607,24701],\"xaxis\":\"x\",\"y\":[5931,39774,4542,568,544,297,2180,678,878,726,405,303,477,415,641,300,1531,640,302,3578,270,2196,293,482,352,7550,245,4360,280,359,658,127,6826,731,1252,3,772,247,142,416,137,449,130,522,1060,138,115,34,204,47,1629,967,1999,101,165,323,23,121,226,55,1,9,2180,2543,104,34,69,17,292,19,33,931,103,72,56,677,7,990,10,297,137,2256,626,3925,112,184,24056,93,112,1502,12757,1069,149,297,470,1014,129,197,41,62,266,78,188,4311,2123,452,121,494,1,29,140,2671,27,712,570,67,938,0,493,54,508,16,1054,20,111,195,48,0,22,4,194,16582,0,984,2,47,85,5380,3,2844,0,5,10,458,516,109,221,166,1576,212,995,1918,0,876,68,3490,6597,8649,107,1986,2639,1960,1874,7,140,710,156,11624,51,50,28049,11,1,625,104,2880,393,1128,170,65,712,1567,299,193,1033,353,1017,241,112,67,37,1817,78,465,17479,6101,619,2166,259,1562,46445,457,533,1136,672,560,3067,1286,190,678,596,639,18,5893,549,538,199,870,1035,404,936,43,876,1112,325,244,7146,778,371,863,651,1714,50,538,45,292,30,8158,813,373,793,15,84,68,189,0,306,20,2,277,57,386,343,183,1062,15,81,157,4459,422,5,471,1157,1640,489,9,138,150,1640,741,25,554,181,155,125,1320,37,236,48,228,11,220,115,22,77,4,80,1092,248,60,344,2017,25,3,171,1143,105,266,2723,2276,137,304,996,129,24218,723,2,138,102,11,646,12,2279,5,115,3932,202,39,107,1519,239,117,13164,57,150,1115,304,1038,142,303,41,62,81,190,588,4719,32,514,2128,271,17,469,1,2694,121,27,722,76,472,72,940,0,495,68,49,196,236,1060,113,0,23,4,23,0,2,17328,47,1020,5430,2917,3,0,69,5,463,12,521,110,225,166,1607,86,1000,907,0,8827,521,1086,1186,374,917,4008,1135,604,6687,1015,994,947,1030,767,650,242,3288,1198,775,22023,2547,836,458,6882,59,337,191,210,27,41,1325,96,218,38,228,118,50584,346,755,912,580,1481,3861,28,165,1718,73,94,49,10,670,32,544,1959,34,65,5,52,295,585,737,63,1348,653,68,1,7808,628,3,5,118,976,252,101,48,672,30,1054,9501,297,321,450,0,1135,1099,18,1038,124,986,530,247,29,1625,743,845,446,458,4,1879,63,694,262,15,36,911,307,387,8567,6,37,209,392,817,39,309,1111,16,386,169,1260,4547,41,1848,36,798,156,168,27,65,62,67,748,616,27,1534,196,262,23,12,5,92,213,81,249,10,1188,12,84,46,2033,117,63,48,1652,1322,285,2919,105,46,332,2363,13,143,1003,773,258,102,24306,137,1582,60,648,139,11,122,235,290,129,1541,126,2316,1174,14,101,13695,0,312,148,73,7,41,151,8,12,1065,1342,11446,1613,854,436,4472,3615,1156,978,204,5411,143,229,278,169,527,173,1463,810,1149,163,1606,1001,557,111,1044,1718,547,139,1667,142,419,4440,626,469,729,81,10369,269,55,1556,447,1071,314,378,583,168,520,7,366,129,882,2,43,1247,96,555,140,1597,784,820,778,3871,511,1593,96,73,45,33,200,916,111,240,7,30,585,5,96,111,37,917,22885,35,7120,428,334,4,6,6,3,164,63,234,179,72,98,56,1645,42,52253,808,96,638,22,2104,328,762,52,1486,8998,128,82,823,52,678,553,15,64,138,13,1009,50,265,266,736,146,277,340,10688,1089,485,159,1191,1065,1225,1047,1724,797,378,44,1,35,488,99,8965,872,350,41,788,1997,461,62,21,66,392,961,78,7,1247,216,48,466,29,209,17,36,298,187,5,20,1144,69,419,20,4,13,164,38,1318,83,1989,181,4587,799,200,660,759,14,1664,44,295,283,96,27,10,26,4152,188836,4298,22694,869,1946,206,606,694,475,1420,833,2980,4313,6168,20,134,230,222,843,457,1271,592,2162,151,4288,407,1079,365,460,908,288,201,25,6677,250,2209,9,1597,910,207,23,61,189,1006,1512,1443,127,1268,659,58,100,621,125,476,182,1853,74,53,730,1997,8,338,24,911,442,4577,11581,1883,503,849,547,176,427,203,590,215,614,108,42,406,966,7,54,160,1235,868,7,110,15,8,853,4137,142,1630,1696,0,63,937,106,35,244,184,40,179,114,626,280,5,954,131,23207,447,7231,108,351,34,45,64,243,38,155,19,76,835,644,355,54352,1779,32,141,23,37,68,2175,945,78,60,6,1573,189,685,9636,849,145,63,84,273,3,1031,303,178,352,30,798,11533,16,1141,505,3629,55,13,1080,1357,436,1218,376,6,832,56,569,49,1804,55,48,875,100,9367,0,903,505,1641,50,535,395,67,1160,2060,230,0,998,189,807,218,471,71,659,346,260,3978,9287,354,1249,1831,655,1817,271351,60,1208,655,5553,29669,7077,1336,594,74,30,114,1233,209,1088,3847,357],\"yaxis\":\"y\",\"type\":\"scatter\"}],                        {\"template\":{\"data\":{\"bar\":[{\"error_x\":{\"color\":\"#2a3f5f\"},\"error_y\":{\"color\":\"#2a3f5f\"},\"marker\":{\"line\":{\"color\":\"#E5ECF6\",\"width\":0.5},\"pattern\":{\"fillmode\":\"overlay\",\"size\":10,\"solidity\":0.2}},\"type\":\"bar\"}],\"barpolar\":[{\"marker\":{\"line\":{\"color\":\"#E5ECF6\",\"width\":0.5},\"pattern\":{\"fillmode\":\"overlay\",\"size\":10,\"solidity\":0.2}},\"type\":\"barpolar\"}],\"carpet\":[{\"aaxis\":{\"endlinecolor\":\"#2a3f5f\",\"gridcolor\":\"white\",\"linecolor\":\"white\",\"minorgridcolor\":\"white\",\"startlinecolor\":\"#2a3f5f\"},\"baxis\":{\"endlinecolor\":\"#2a3f5f\",\"gridcolor\":\"white\",\"linecolor\":\"white\",\"minorgridcolor\":\"white\",\"startlinecolor\":\"#2a3f5f\"},\"type\":\"carpet\"}],\"choropleth\":[{\"colorbar\":{\"outlinewidth\":0,\"ticks\":\"\"},\"type\":\"choropleth\"}],\"contour\":[{\"colorbar\":{\"outlinewidth\":0,\"ticks\":\"\"},\"colorscale\":[[0.0,\"#0d0887\"],[0.1111111111111111,\"#46039f\"],[0.2222222222222222,\"#7201a8\"],[0.3333333333333333,\"#9c179e\"],[0.4444444444444444,\"#bd3786\"],[0.5555555555555556,\"#d8576b\"],[0.6666666666666666,\"#ed7953\"],[0.7777777777777778,\"#fb9f3a\"],[0.8888888888888888,\"#fdca26\"],[1.0,\"#f0f921\"]],\"type\":\"contour\"}],\"contourcarpet\":[{\"colorbar\":{\"outlinewidth\":0,\"ticks\":\"\"},\"type\":\"contourcarpet\"}],\"heatmap\":[{\"colorbar\":{\"outlinewidth\":0,\"ticks\":\"\"},\"colorscale\":[[0.0,\"#0d0887\"],[0.1111111111111111,\"#46039f\"],[0.2222222222222222,\"#7201a8\"],[0.3333333333333333,\"#9c179e\"],[0.4444444444444444,\"#bd3786\"],[0.5555555555555556,\"#d8576b\"],[0.6666666666666666,\"#ed7953\"],[0.7777777777777778,\"#fb9f3a\"],[0.8888888888888888,\"#fdca26\"],[1.0,\"#f0f921\"]],\"type\":\"heatmap\"}],\"heatmapgl\":[{\"colorbar\":{\"outlinewidth\":0,\"ticks\":\"\"},\"colorscale\":[[0.0,\"#0d0887\"],[0.1111111111111111,\"#46039f\"],[0.2222222222222222,\"#7201a8\"],[0.3333333333333333,\"#9c179e\"],[0.4444444444444444,\"#bd3786\"],[0.5555555555555556,\"#d8576b\"],[0.6666666666666666,\"#ed7953\"],[0.7777777777777778,\"#fb9f3a\"],[0.8888888888888888,\"#fdca26\"],[1.0,\"#f0f921\"]],\"type\":\"heatmapgl\"}],\"histogram\":[{\"marker\":{\"pattern\":{\"fillmode\":\"overlay\",\"size\":10,\"solidity\":0.2}},\"type\":\"histogram\"}],\"histogram2d\":[{\"colorbar\":{\"outlinewidth\":0,\"ticks\":\"\"},\"colorscale\":[[0.0,\"#0d0887\"],[0.1111111111111111,\"#46039f\"],[0.2222222222222222,\"#7201a8\"],[0.3333333333333333,\"#9c179e\"],[0.4444444444444444,\"#bd3786\"],[0.5555555555555556,\"#d8576b\"],[0.6666666666666666,\"#ed7953\"],[0.7777777777777778,\"#fb9f3a\"],[0.8888888888888888,\"#fdca26\"],[1.0,\"#f0f921\"]],\"type\":\"histogram2d\"}],\"histogram2dcontour\":[{\"colorbar\":{\"outlinewidth\":0,\"ticks\":\"\"},\"colorscale\":[[0.0,\"#0d0887\"],[0.1111111111111111,\"#46039f\"],[0.2222222222222222,\"#7201a8\"],[0.3333333333333333,\"#9c179e\"],[0.4444444444444444,\"#bd3786\"],[0.5555555555555556,\"#d8576b\"],[0.6666666666666666,\"#ed7953\"],[0.7777777777777778,\"#fb9f3a\"],[0.8888888888888888,\"#fdca26\"],[1.0,\"#f0f921\"]],\"type\":\"histogram2dcontour\"}],\"mesh3d\":[{\"colorbar\":{\"outlinewidth\":0,\"ticks\":\"\"},\"type\":\"mesh3d\"}],\"parcoords\":[{\"line\":{\"colorbar\":{\"outlinewidth\":0,\"ticks\":\"\"}},\"type\":\"parcoords\"}],\"pie\":[{\"automargin\":true,\"type\":\"pie\"}],\"scatter\":[{\"marker\":{\"colorbar\":{\"outlinewidth\":0,\"ticks\":\"\"}},\"type\":\"scatter\"}],\"scatter3d\":[{\"line\":{\"colorbar\":{\"outlinewidth\":0,\"ticks\":\"\"}},\"marker\":{\"colorbar\":{\"outlinewidth\":0,\"ticks\":\"\"}},\"type\":\"scatter3d\"}],\"scattercarpet\":[{\"marker\":{\"colorbar\":{\"outlinewidth\":0,\"ticks\":\"\"}},\"type\":\"scattercarpet\"}],\"scattergeo\":[{\"marker\":{\"colorbar\":{\"outlinewidth\":0,\"ticks\":\"\"}},\"type\":\"scattergeo\"}],\"scattergl\":[{\"marker\":{\"colorbar\":{\"outlinewidth\":0,\"ticks\":\"\"}},\"type\":\"scattergl\"}],\"scattermapbox\":[{\"marker\":{\"colorbar\":{\"outlinewidth\":0,\"ticks\":\"\"}},\"type\":\"scattermapbox\"}],\"scatterpolar\":[{\"marker\":{\"colorbar\":{\"outlinewidth\":0,\"ticks\":\"\"}},\"type\":\"scatterpolar\"}],\"scatterpolargl\":[{\"marker\":{\"colorbar\":{\"outlinewidth\":0,\"ticks\":\"\"}},\"type\":\"scatterpolargl\"}],\"scatterternary\":[{\"marker\":{\"colorbar\":{\"outlinewidth\":0,\"ticks\":\"\"}},\"type\":\"scatterternary\"}],\"surface\":[{\"colorbar\":{\"outlinewidth\":0,\"ticks\":\"\"},\"colorscale\":[[0.0,\"#0d0887\"],[0.1111111111111111,\"#46039f\"],[0.2222222222222222,\"#7201a8\"],[0.3333333333333333,\"#9c179e\"],[0.4444444444444444,\"#bd3786\"],[0.5555555555555556,\"#d8576b\"],[0.6666666666666666,\"#ed7953\"],[0.7777777777777778,\"#fb9f3a\"],[0.8888888888888888,\"#fdca26\"],[1.0,\"#f0f921\"]],\"type\":\"surface\"}],\"table\":[{\"cells\":{\"fill\":{\"color\":\"#EBF0F8\"},\"line\":{\"color\":\"white\"}},\"header\":{\"fill\":{\"color\":\"#C8D4E3\"},\"line\":{\"color\":\"white\"}},\"type\":\"table\"}]},\"layout\":{\"annotationdefaults\":{\"arrowcolor\":\"#2a3f5f\",\"arrowhead\":0,\"arrowwidth\":1},\"autotypenumbers\":\"strict\",\"coloraxis\":{\"colorbar\":{\"outlinewidth\":0,\"ticks\":\"\"}},\"colorscale\":{\"diverging\":[[0,\"#8e0152\"],[0.1,\"#c51b7d\"],[0.2,\"#de77ae\"],[0.3,\"#f1b6da\"],[0.4,\"#fde0ef\"],[0.5,\"#f7f7f7\"],[0.6,\"#e6f5d0\"],[0.7,\"#b8e186\"],[0.8,\"#7fbc41\"],[0.9,\"#4d9221\"],[1,\"#276419\"]],\"sequential\":[[0.0,\"#0d0887\"],[0.1111111111111111,\"#46039f\"],[0.2222222222222222,\"#7201a8\"],[0.3333333333333333,\"#9c179e\"],[0.4444444444444444,\"#bd3786\"],[0.5555555555555556,\"#d8576b\"],[0.6666666666666666,\"#ed7953\"],[0.7777777777777778,\"#fb9f3a\"],[0.8888888888888888,\"#fdca26\"],[1.0,\"#f0f921\"]],\"sequentialminus\":[[0.0,\"#0d0887\"],[0.1111111111111111,\"#46039f\"],[0.2222222222222222,\"#7201a8\"],[0.3333333333333333,\"#9c179e\"],[0.4444444444444444,\"#bd3786\"],[0.5555555555555556,\"#d8576b\"],[0.6666666666666666,\"#ed7953\"],[0.7777777777777778,\"#fb9f3a\"],[0.8888888888888888,\"#fdca26\"],[1.0,\"#f0f921\"]]},\"colorway\":[\"#636efa\",\"#EF553B\",\"#00cc96\",\"#ab63fa\",\"#FFA15A\",\"#19d3f3\",\"#FF6692\",\"#B6E880\",\"#FF97FF\",\"#FECB52\"],\"font\":{\"color\":\"#2a3f5f\"},\"geo\":{\"bgcolor\":\"white\",\"lakecolor\":\"white\",\"landcolor\":\"#E5ECF6\",\"showlakes\":true,\"showland\":true,\"subunitcolor\":\"white\"},\"hoverlabel\":{\"align\":\"left\"},\"hovermode\":\"closest\",\"mapbox\":{\"style\":\"light\"},\"paper_bgcolor\":\"white\",\"plot_bgcolor\":\"#E5ECF6\",\"polar\":{\"angularaxis\":{\"gridcolor\":\"white\",\"linecolor\":\"white\",\"ticks\":\"\"},\"bgcolor\":\"#E5ECF6\",\"radialaxis\":{\"gridcolor\":\"white\",\"linecolor\":\"white\",\"ticks\":\"\"}},\"scene\":{\"xaxis\":{\"backgroundcolor\":\"#E5ECF6\",\"gridcolor\":\"white\",\"gridwidth\":2,\"linecolor\":\"white\",\"showbackground\":true,\"ticks\":\"\",\"zerolinecolor\":\"white\"},\"yaxis\":{\"backgroundcolor\":\"#E5ECF6\",\"gridcolor\":\"white\",\"gridwidth\":2,\"linecolor\":\"white\",\"showbackground\":true,\"ticks\":\"\",\"zerolinecolor\":\"white\"},\"zaxis\":{\"backgroundcolor\":\"#E5ECF6\",\"gridcolor\":\"white\",\"gridwidth\":2,\"linecolor\":\"white\",\"showbackground\":true,\"ticks\":\"\",\"zerolinecolor\":\"white\"}},\"shapedefaults\":{\"line\":{\"color\":\"#2a3f5f\"}},\"ternary\":{\"aaxis\":{\"gridcolor\":\"white\",\"linecolor\":\"white\",\"ticks\":\"\"},\"baxis\":{\"gridcolor\":\"white\",\"linecolor\":\"white\",\"ticks\":\"\"},\"bgcolor\":\"#E5ECF6\",\"caxis\":{\"gridcolor\":\"white\",\"linecolor\":\"white\",\"ticks\":\"\"}},\"title\":{\"x\":0.05},\"xaxis\":{\"automargin\":true,\"gridcolor\":\"white\",\"linecolor\":\"white\",\"ticks\":\"\",\"title\":{\"standoff\":15},\"zerolinecolor\":\"white\",\"zerolinewidth\":2},\"yaxis\":{\"automargin\":true,\"gridcolor\":\"white\",\"linecolor\":\"white\",\"ticks\":\"\",\"title\":{\"standoff\":15},\"zerolinecolor\":\"white\",\"zerolinewidth\":2}}},\"xaxis\":{\"anchor\":\"y\",\"domain\":[0.0,1.0],\"title\":{\"text\":\"likes\"}},\"yaxis\":{\"anchor\":\"x\",\"domain\":[0.0,1.0],\"title\":{\"text\":\"dislikes\"}},\"legend\":{\"tracegroupgap\":0},\"margin\":{\"t\":60}},                        {\"responsive\": true}                    ).then(function(){\n",
              "                            \n",
              "var gd = document.getElementById('da88d4d7-4b13-4ad1-88d7-964b5924e9df');\n",
              "var x = new MutationObserver(function (mutations, observer) {{\n",
              "        var display = window.getComputedStyle(gd).display;\n",
              "        if (!display || display === 'none') {{\n",
              "            console.log([gd, 'removed!']);\n",
              "            Plotly.purge(gd);\n",
              "            observer.disconnect();\n",
              "        }}\n",
              "}});\n",
              "\n",
              "// Listen for the removal of the full notebook cells\n",
              "var notebookContainer = gd.closest('#notebook-container');\n",
              "if (notebookContainer) {{\n",
              "    x.observe(notebookContainer, {childList: true});\n",
              "}}\n",
              "\n",
              "// Listen for the clearing of the current output cell\n",
              "var outputEl = gd.closest('.output');\n",
              "if (outputEl) {{\n",
              "    x.observe(outputEl, {childList: true});\n",
              "}}\n",
              "\n",
              "                        })                };                            </script>        </div>\n",
              "</body>\n",
              "</html>"
            ]
          },
          "metadata": {}
        }
      ]
    },
    {
      "cell_type": "code",
      "source": [
        "pd_df_videos.plot.scatter(\"likes\", \"comment_total\")"
      ],
      "metadata": {
        "colab": {
          "base_uri": "https://localhost:8080/",
          "height": 542
        },
        "id": "5xxWji3YBz_0",
        "outputId": "c12c8b26-b369-4959-ae99-9bc21569cc1d"
      },
      "execution_count": null,
      "outputs": [
        {
          "output_type": "display_data",
          "data": {
            "text/html": [
              "<html>\n",
              "<head><meta charset=\"utf-8\" /></head>\n",
              "<body>\n",
              "    <div>            <script src=\"https://cdnjs.cloudflare.com/ajax/libs/mathjax/2.7.5/MathJax.js?config=TeX-AMS-MML_SVG\"></script><script type=\"text/javascript\">if (window.MathJax) {MathJax.Hub.Config({SVG: {font: \"STIX-Web\"}});}</script>                <script type=\"text/javascript\">window.PlotlyConfig = {MathJaxConfig: 'local'};</script>\n",
              "        <script src=\"https://cdn.plot.ly/plotly-2.8.3.min.js\"></script>                <div id=\"024fc458-362d-456c-bff1-41342ed99729\" class=\"plotly-graph-div\" style=\"height:525px; width:100%;\"></div>            <script type=\"text/javascript\">                                    window.PLOTLYENV=window.PLOTLYENV || {};                                    if (document.getElementById(\"024fc458-362d-456c-bff1-41342ed99729\")) {                    Plotly.newPlot(                        \"024fc458-362d-456c-bff1-41342ed99729\",                        [{\"hovertemplate\":\"likes=%{x}<br>comment_total=%{y}<extra></extra>\",\"legendgroup\":\"\",\"marker\":{\"color\":\"#636efa\",\"symbol\":\"circle\"},\"mode\":\"markers\",\"name\":\"\",\"orientation\":\"v\",\"showlegend\":false,\"x\":[320053,576597,24975,96666,34507,9985,74062,69687,29943,34485,28050,8085,9215,14740,18936,14870,65749,23945,7941,66420,1521,2921,21817,3498,6126,384920,16258,65730,15424,42290,19575,6218,9143,25456,39791,71,490,15314,3712,9531,19183,2070,9889,26521,74587,4389,12179,1692,19538,345,3553,61409,38823,2123,3752,14096,119,4165,141,9467,70,139,104899,17517,3858,520,13901,2032,9746,160,1619,33686,2377,6003,5080,17110,3263,15333,83,20164,942,28651,14279,26771,18023,11767,3498,4679,6300,74679,32276,123805,10918,3391,8516,83419,6156,3995,845,270,1990,19869,1158,45408,8048,11618,2405,2678,53,327,9301,41039,251,3964,57545,206,4893,8,13260,6491,13099,340,17141,1049,3337,12880,742,45,895,203,51890,183483,104,19734,87,7897,454,133824,200,24779,28,258,17,12099,20499,3606,2223,9188,38670,13343,49257,50009,15,20322,4231,23472,468636,146460,3677,49443,29748,21516,77679,51,4403,25068,9353,291383,1194,1445,1431683,73,344,64515,10084,76505,19286,50802,8909,261,24188,179085,29851,4695,20553,21302,176110,26662,7070,196,2218,11255,1801,26425,349857,30836,35880,174771,4847,32608,626155,29220,2520,128402,14539,12843,93812,11558,157,40496,10053,22897,1835,88182,34506,37881,5296,22556,33111,18228,76343,220,39886,25046,16909,485,72782,26816,9467,33015,4389,72625,4127,49500,1208,1557,1237,398514,21783,23994,498,38,2433,4857,7977,15,54551,154,223,17845,403,6501,18017,6871,35312,1939,6162,4137,67469,31544,172,10947,19477,47871,33359,3797,12990,21395,3571,25968,122,27575,3905,4598,12908,90146,569,25070,6084,3716,4296,21239,2548,1602,15485,1330,6395,68793,152,10142,14671,39488,2642,112,10871,35336,3915,16268,18534,107674,10185,11034,15377,4499,3521,18485,76,949,2153,119,15547,351,29072,112,18538,26768,12482,1749,5058,75508,4636,6617,33851,5164,11202,126897,20387,85017,6357,3442,849,270,20645,1158,58482,47168,361,2727,8057,2034,401,12329,60,41329,2408,251,3996,974,8616,224,4894,9,13560,6708,756,13019,59232,17617,3458,55,914,203,475,105,87,187251,7945,20383,135169,25976,210,29,4309,274,12221,22,20839,3644,2248,9287,39393,462,50162,21350,15,149929,7571,135734,11937,54715,9582,20278,5144,34089,746023,48069,47583,74326,22071,8424,9325,549,222514,63141,42549,361422,42471,42203,400,33617,2010,13226,5432,7105,5742,2137,1170,2130,6076,2789,15696,3312,659184,6445,3097,17804,4578,144171,107888,166,7936,14122,3602,20,2921,980,13834,608,7703,85965,19447,11843,390,6610,2432,25553,43783,299,31922,42524,2614,22,104520,10379,192,1340,8686,24364,6520,6500,1924,40807,387,203997,86493,9801,35138,20265,57,35533,38322,1115,79451,7999,43039,40292,14836,205,5693,5137,28646,10556,3045,269,78518,1558,55269,1685,430,2268,23663,4471,25617,411682,178,7258,8924,65224,46870,152,19203,36722,4298,19610,4451,20846,69240,2053,54077,1530,501,14354,24003,1051,1214,4752,6507,26435,29142,131,103685,4015,26842,2649,1654,148,2682,12581,16782,22594,180,75284,3979,6729,5118,40143,2668,10610,638,3589,36812,17028,19798,3947,1830,12305,110390,4965,10461,15427,19954,159,2186,3531,4848,2473,5329,16146,954,149,19006,13479,5847,6854,76278,5489,29658,131470,209,2870,35892,261,20699,10034,5533,391,850,6608,1023,365,86547,3334,198696,6341,7828,1207,49804,22810,3964,12692,2672,323439,3204,42116,8278,9567,16829,12671,155627,79888,115156,11494,9275,50615,66696,14306,18926,6531,950,359,64045,3440,22667,22501,232107,35833,58213,9897,956288,41128,3258,96802,23238,33124,15266,53345,31738,49951,13862,1268,8443,26,75023,246,299,59921,2793,14903,30831,1315,11123,9275,5910,247833,471,71749,3896,4776,9708,200,4829,48018,9672,7137,944,11632,26543,499,4447,2399,7870,45015,366401,683,34622,7594,2577,245,335,1481,500,8478,316,6592,8634,5028,2912,3294,152496,3376,672775,3286,15624,10480,1361,90329,1987,30469,637,36292,116464,7364,2761,45956,2272,43748,42844,3195,15128,9435,1016,25042,188,15810,6842,44538,8965,17652,37871,93363,212293,21285,14805,36839,81519,41380,44935,6017,5630,11312,7892,22,20907,11439,1238,422911,29584,4878,2777,58282,82510,73825,1262,5936,1695,26710,24567,6696,182,61212,9581,2208,3156,215,12930,453,1604,1586,4704,169,4749,37556,5011,20794,7930,302,1157,14984,1719,21584,1608,58956,26495,70200,501,4073,30373,26725,235,111619,1607,27542,27950,2846,132,146,2814,105292,249525,13331,333571,69585,4449,3239,14225,36062,11561,13740,8850,111571,129744,61918,258,9381,20614,1757,2159,33856,96479,5195,6019,3690,26492,4174,14943,52876,10897,25885,11518,4655,1898,361052,5203,12799,713,164754,86214,12609,2039,803,422,277868,131981,21171,6143,62776,1132,358,4721,72029,12924,20113,4244,7037,2091,15926,35824,74611,288,48988,1532,65212,23900,23184,1013883,108832,37495,9772,26026,19325,59110,56452,15786,14093,16175,3135,1877,8837,79919,734,11310,32794,37115,12106,617,4391,1227,474,6633,259507,12440,1332,75361,180,398,49377,4806,4761,7205,9023,8583,9978,2616,28204,7910,271,46801,26,369963,8099,35111,3158,2119,208,3683,3553,6830,726,21111,2008,5362,3447,10554,2615,687381,157883,10156,7823,1471,2410,833,92549,35004,17372,2486,1513,38699,10184,44331,123557,47051,9892,320,2918,16425,373,25418,18879,15315,39315,6848,47349,98828,3526,218697,21980,109494,8211,1032,46448,44449,12411,37539,5130,1432,6117,205,43681,3197,6246,2293,22516,60575,1247,432783,141,30520,79631,74997,2007,12246,27393,1774,38242,85408,10170,61,25299,28530,504,13284,3245,5210,28349,7696,1149,179081,151423,1073,7306,78245,7268,41867,279751,202,19278,31942,16818,415114,138872,82533,15974,764,448,103,11561,5814,39892,119607,24701],\"xaxis\":\"x\",\"y\":[46245,170708,12829,6666,3040,1071,15297,5643,4046,1914,2745,726,838,1696,3817,1398,3598,1941,1432,5550,1168,1042,2017,439,2438,23855,1588,9504,3317,3250,2510,524,4838,1073,3868,15,597,1842,524,1079,2154,352,1224,5996,6558,338,827,174,3172,149,889,4097,6229,435,1163,1338,67,537,256,956,7,12,11355,2157,675,96,1087,368,1119,51,201,14935,484,364,434,5311,294,4641,27,2597,582,6878,1927,123,1017,1519,6420,331,789,3881,4103,9275,781,374,663,7114,320,256,344,211,192,2027,439,5708,3359,1663,259,895,16,86,349,15607,146,278,3333,153,381,3,1751,339,1297,36,5521,297,447,517,404,9,143,25,4852,19443,15,3029,10,781,290,23176,22,2242,8,99,2,1771,6361,699,390,876,1470,6348,4863,6584,4,862,246,5872,20989,4896,732,3970,4112,2108,4529,29,335,1299,1282,24246,194,268,100661,62,21,4325,331,6414,2304,8606,334,49,2383,11973,453,396,2138,1559,6257,557,288,80,159,3631,96,2278,52483,16713,6246,19191,1083,6864,190979,2233,977,8733,1353,1367,19758,1783,406,3915,1191,2430,230,7373,3180,8313,2422,4638,4709,1671,6052,115,2347,2510,1845,318,18239,2165,1709,4018,603,4056,299,3886,118,1368,118,24861,2839,2224,642,6,453,311,798,6,3702,20,23,1852,175,2582,3900,705,6077,156,564,587,8750,3563,47,1206,8125,4295,4152,362,1403,2298,920,1139,74,6161,1329,371,937,7936,121,3634,686,494,605,3538,504,114,1180,119,388,4582,286,1003,1407,6311,466,28,385,16645,697,1965,2450,11743,1107,1231,4695,640,6501,5728,13,598,444,54,2081,20,7081,10,1070,147,1635,213,355,3978,331,901,4404,447,800,9470,2612,7196,357,381,357,219,2100,434,3389,6048,85,934,3396,199,50,1746,26,15667,263,150,280,691,680,182,445,7,1792,345,445,521,5468,5684,459,6,159,30,106,21,14,19816,786,3113,23408,2345,26,13,264,105,1772,5,6595,719,395,881,1519,303,4923,909,9,4964,1215,16234,2333,4067,2779,7615,999,1055,102758,2956,4017,10379,9138,866,1943,485,23539,8810,3130,54671,8880,7351,1018,18323,189,2726,477,241,337,201,1106,505,521,250,1915,467,199406,1247,1405,1662,735,9933,22556,92,1008,2237,660,59,404,125,1251,70,1421,14243,1449,937,27,391,1314,3016,4341,210,5073,9323,369,40,7083,1025,21,131,1976,4644,2910,375,213,3650,29,16847,22016,1009,4762,1888,9,5328,3667,156,6290,759,1955,4308,3052,66,3561,766,2352,1616,419,62,3926,186,4383,648,363,137,3139,617,2360,21046,79,1537,942,4188,5114,36,2088,6460,419,3079,666,8703,9039,121,4710,251,684,1554,2502,153,239,395,726,1055,6399,72,7761,1307,3918,206,160,33,511,471,1249,3845,67,4244,258,441,754,4709,547,1109,140,954,15557,1634,2275,661,264,1094,12177,679,1203,4730,6239,278,467,6466,699,36,471,1686,602,85,1128,1461,413,982,3989,361,7275,9680,29,537,4523,31,2277,591,693,27,274,393,111,45,7331,6369,21514,1053,1188,1551,15358,5460,1227,2083,256,21570,582,6046,1987,991,2111,1688,18215,20228,8206,1768,1653,1655,5332,1028,2429,1406,947,910,3646,244,3212,6835,26197,4710,8910,676,125246,1966,349,9813,2126,5084,1019,3828,4296,3935,2221,146,309,92,11988,25,366,3796,298,1540,5376,1094,2211,850,930,24307,1287,9973,511,374,440,133,648,2990,509,645,77,634,3046,41,800,568,569,7757,39626,78,12812,1053,1398,30,34,148,43,587,272,590,1079,630,417,495,8941,330,128771,1274,1260,1090,206,14662,757,3693,65,4335,7885,467,415,3534,303,9616,4567,228,2344,2092,141,4799,95,3230,3055,3150,829,2029,3578,19783,17391,1597,1294,4421,4470,3903,2096,2817,653,1169,1633,101,1584,1748,91,21513,2118,695,193,4556,4192,4530,421,311,235,2476,2753,679,94,6124,995,125,429,81,2479,435,183,767,632,81,487,6731,438,3367,826,79,124,1378,319,8985,250,5079,2266,9142,724,1361,5581,1124,116,8363,145,2967,3416,554,96,17,259,21600,101387,2607,31875,11670,8408,393,2341,4684,1415,2204,1123,6153,15172,19388,66,1429,3756,1573,2324,2187,8973,942,1957,667,6514,462,1724,6094,2545,3164,1193,558,166,23243,2322,1899,67,18934,21538,1940,260,238,1149,24267,9159,2311,537,1500,1094,438,542,5921,809,1232,289,1573,452,809,4923,3552,22,2222,126,6799,3329,6973,157635,10698,3601,730,2342,1870,4096,4159,2065,1817,1378,318,140,315,12703,78,498,4534,4211,1789,37,597,107,51,1041,19035,574,1099,8481,7,158,3003,785,560,526,888,646,709,518,3133,863,32,5702,93,38850,1094,12823,336,620,117,387,346,451,49,1693,83,668,1199,1001,1251,130106,9107,890,366,216,201,53,14951,3755,2583,136,112,4566,828,6640,8211,3314,2160,139,344,2529,55,4786,1618,1029,3744,275,3205,20901,229,17755,1567,20727,1421,119,2004,4118,1001,4278,561,140,600,3,3593,179,2885,110,1643,4609,68,21853,29,2137,3930,5891,236,1743,1988,176,6931,4287,872,11,2705,2291,658,2483,407,302,3316,629,533,30850,31293,761,5175,12621,940,3875,85949,69,3328,3183,2636,31425,11177,12968,2890,170,53,53,1073,1224,3914,4893,4613],\"yaxis\":\"y\",\"type\":\"scatter\"}],                        {\"template\":{\"data\":{\"bar\":[{\"error_x\":{\"color\":\"#2a3f5f\"},\"error_y\":{\"color\":\"#2a3f5f\"},\"marker\":{\"line\":{\"color\":\"#E5ECF6\",\"width\":0.5},\"pattern\":{\"fillmode\":\"overlay\",\"size\":10,\"solidity\":0.2}},\"type\":\"bar\"}],\"barpolar\":[{\"marker\":{\"line\":{\"color\":\"#E5ECF6\",\"width\":0.5},\"pattern\":{\"fillmode\":\"overlay\",\"size\":10,\"solidity\":0.2}},\"type\":\"barpolar\"}],\"carpet\":[{\"aaxis\":{\"endlinecolor\":\"#2a3f5f\",\"gridcolor\":\"white\",\"linecolor\":\"white\",\"minorgridcolor\":\"white\",\"startlinecolor\":\"#2a3f5f\"},\"baxis\":{\"endlinecolor\":\"#2a3f5f\",\"gridcolor\":\"white\",\"linecolor\":\"white\",\"minorgridcolor\":\"white\",\"startlinecolor\":\"#2a3f5f\"},\"type\":\"carpet\"}],\"choropleth\":[{\"colorbar\":{\"outlinewidth\":0,\"ticks\":\"\"},\"type\":\"choropleth\"}],\"contour\":[{\"colorbar\":{\"outlinewidth\":0,\"ticks\":\"\"},\"colorscale\":[[0.0,\"#0d0887\"],[0.1111111111111111,\"#46039f\"],[0.2222222222222222,\"#7201a8\"],[0.3333333333333333,\"#9c179e\"],[0.4444444444444444,\"#bd3786\"],[0.5555555555555556,\"#d8576b\"],[0.6666666666666666,\"#ed7953\"],[0.7777777777777778,\"#fb9f3a\"],[0.8888888888888888,\"#fdca26\"],[1.0,\"#f0f921\"]],\"type\":\"contour\"}],\"contourcarpet\":[{\"colorbar\":{\"outlinewidth\":0,\"ticks\":\"\"},\"type\":\"contourcarpet\"}],\"heatmap\":[{\"colorbar\":{\"outlinewidth\":0,\"ticks\":\"\"},\"colorscale\":[[0.0,\"#0d0887\"],[0.1111111111111111,\"#46039f\"],[0.2222222222222222,\"#7201a8\"],[0.3333333333333333,\"#9c179e\"],[0.4444444444444444,\"#bd3786\"],[0.5555555555555556,\"#d8576b\"],[0.6666666666666666,\"#ed7953\"],[0.7777777777777778,\"#fb9f3a\"],[0.8888888888888888,\"#fdca26\"],[1.0,\"#f0f921\"]],\"type\":\"heatmap\"}],\"heatmapgl\":[{\"colorbar\":{\"outlinewidth\":0,\"ticks\":\"\"},\"colorscale\":[[0.0,\"#0d0887\"],[0.1111111111111111,\"#46039f\"],[0.2222222222222222,\"#7201a8\"],[0.3333333333333333,\"#9c179e\"],[0.4444444444444444,\"#bd3786\"],[0.5555555555555556,\"#d8576b\"],[0.6666666666666666,\"#ed7953\"],[0.7777777777777778,\"#fb9f3a\"],[0.8888888888888888,\"#fdca26\"],[1.0,\"#f0f921\"]],\"type\":\"heatmapgl\"}],\"histogram\":[{\"marker\":{\"pattern\":{\"fillmode\":\"overlay\",\"size\":10,\"solidity\":0.2}},\"type\":\"histogram\"}],\"histogram2d\":[{\"colorbar\":{\"outlinewidth\":0,\"ticks\":\"\"},\"colorscale\":[[0.0,\"#0d0887\"],[0.1111111111111111,\"#46039f\"],[0.2222222222222222,\"#7201a8\"],[0.3333333333333333,\"#9c179e\"],[0.4444444444444444,\"#bd3786\"],[0.5555555555555556,\"#d8576b\"],[0.6666666666666666,\"#ed7953\"],[0.7777777777777778,\"#fb9f3a\"],[0.8888888888888888,\"#fdca26\"],[1.0,\"#f0f921\"]],\"type\":\"histogram2d\"}],\"histogram2dcontour\":[{\"colorbar\":{\"outlinewidth\":0,\"ticks\":\"\"},\"colorscale\":[[0.0,\"#0d0887\"],[0.1111111111111111,\"#46039f\"],[0.2222222222222222,\"#7201a8\"],[0.3333333333333333,\"#9c179e\"],[0.4444444444444444,\"#bd3786\"],[0.5555555555555556,\"#d8576b\"],[0.6666666666666666,\"#ed7953\"],[0.7777777777777778,\"#fb9f3a\"],[0.8888888888888888,\"#fdca26\"],[1.0,\"#f0f921\"]],\"type\":\"histogram2dcontour\"}],\"mesh3d\":[{\"colorbar\":{\"outlinewidth\":0,\"ticks\":\"\"},\"type\":\"mesh3d\"}],\"parcoords\":[{\"line\":{\"colorbar\":{\"outlinewidth\":0,\"ticks\":\"\"}},\"type\":\"parcoords\"}],\"pie\":[{\"automargin\":true,\"type\":\"pie\"}],\"scatter\":[{\"marker\":{\"colorbar\":{\"outlinewidth\":0,\"ticks\":\"\"}},\"type\":\"scatter\"}],\"scatter3d\":[{\"line\":{\"colorbar\":{\"outlinewidth\":0,\"ticks\":\"\"}},\"marker\":{\"colorbar\":{\"outlinewidth\":0,\"ticks\":\"\"}},\"type\":\"scatter3d\"}],\"scattercarpet\":[{\"marker\":{\"colorbar\":{\"outlinewidth\":0,\"ticks\":\"\"}},\"type\":\"scattercarpet\"}],\"scattergeo\":[{\"marker\":{\"colorbar\":{\"outlinewidth\":0,\"ticks\":\"\"}},\"type\":\"scattergeo\"}],\"scattergl\":[{\"marker\":{\"colorbar\":{\"outlinewidth\":0,\"ticks\":\"\"}},\"type\":\"scattergl\"}],\"scattermapbox\":[{\"marker\":{\"colorbar\":{\"outlinewidth\":0,\"ticks\":\"\"}},\"type\":\"scattermapbox\"}],\"scatterpolar\":[{\"marker\":{\"colorbar\":{\"outlinewidth\":0,\"ticks\":\"\"}},\"type\":\"scatterpolar\"}],\"scatterpolargl\":[{\"marker\":{\"colorbar\":{\"outlinewidth\":0,\"ticks\":\"\"}},\"type\":\"scatterpolargl\"}],\"scatterternary\":[{\"marker\":{\"colorbar\":{\"outlinewidth\":0,\"ticks\":\"\"}},\"type\":\"scatterternary\"}],\"surface\":[{\"colorbar\":{\"outlinewidth\":0,\"ticks\":\"\"},\"colorscale\":[[0.0,\"#0d0887\"],[0.1111111111111111,\"#46039f\"],[0.2222222222222222,\"#7201a8\"],[0.3333333333333333,\"#9c179e\"],[0.4444444444444444,\"#bd3786\"],[0.5555555555555556,\"#d8576b\"],[0.6666666666666666,\"#ed7953\"],[0.7777777777777778,\"#fb9f3a\"],[0.8888888888888888,\"#fdca26\"],[1.0,\"#f0f921\"]],\"type\":\"surface\"}],\"table\":[{\"cells\":{\"fill\":{\"color\":\"#EBF0F8\"},\"line\":{\"color\":\"white\"}},\"header\":{\"fill\":{\"color\":\"#C8D4E3\"},\"line\":{\"color\":\"white\"}},\"type\":\"table\"}]},\"layout\":{\"annotationdefaults\":{\"arrowcolor\":\"#2a3f5f\",\"arrowhead\":0,\"arrowwidth\":1},\"autotypenumbers\":\"strict\",\"coloraxis\":{\"colorbar\":{\"outlinewidth\":0,\"ticks\":\"\"}},\"colorscale\":{\"diverging\":[[0,\"#8e0152\"],[0.1,\"#c51b7d\"],[0.2,\"#de77ae\"],[0.3,\"#f1b6da\"],[0.4,\"#fde0ef\"],[0.5,\"#f7f7f7\"],[0.6,\"#e6f5d0\"],[0.7,\"#b8e186\"],[0.8,\"#7fbc41\"],[0.9,\"#4d9221\"],[1,\"#276419\"]],\"sequential\":[[0.0,\"#0d0887\"],[0.1111111111111111,\"#46039f\"],[0.2222222222222222,\"#7201a8\"],[0.3333333333333333,\"#9c179e\"],[0.4444444444444444,\"#bd3786\"],[0.5555555555555556,\"#d8576b\"],[0.6666666666666666,\"#ed7953\"],[0.7777777777777778,\"#fb9f3a\"],[0.8888888888888888,\"#fdca26\"],[1.0,\"#f0f921\"]],\"sequentialminus\":[[0.0,\"#0d0887\"],[0.1111111111111111,\"#46039f\"],[0.2222222222222222,\"#7201a8\"],[0.3333333333333333,\"#9c179e\"],[0.4444444444444444,\"#bd3786\"],[0.5555555555555556,\"#d8576b\"],[0.6666666666666666,\"#ed7953\"],[0.7777777777777778,\"#fb9f3a\"],[0.8888888888888888,\"#fdca26\"],[1.0,\"#f0f921\"]]},\"colorway\":[\"#636efa\",\"#EF553B\",\"#00cc96\",\"#ab63fa\",\"#FFA15A\",\"#19d3f3\",\"#FF6692\",\"#B6E880\",\"#FF97FF\",\"#FECB52\"],\"font\":{\"color\":\"#2a3f5f\"},\"geo\":{\"bgcolor\":\"white\",\"lakecolor\":\"white\",\"landcolor\":\"#E5ECF6\",\"showlakes\":true,\"showland\":true,\"subunitcolor\":\"white\"},\"hoverlabel\":{\"align\":\"left\"},\"hovermode\":\"closest\",\"mapbox\":{\"style\":\"light\"},\"paper_bgcolor\":\"white\",\"plot_bgcolor\":\"#E5ECF6\",\"polar\":{\"angularaxis\":{\"gridcolor\":\"white\",\"linecolor\":\"white\",\"ticks\":\"\"},\"bgcolor\":\"#E5ECF6\",\"radialaxis\":{\"gridcolor\":\"white\",\"linecolor\":\"white\",\"ticks\":\"\"}},\"scene\":{\"xaxis\":{\"backgroundcolor\":\"#E5ECF6\",\"gridcolor\":\"white\",\"gridwidth\":2,\"linecolor\":\"white\",\"showbackground\":true,\"ticks\":\"\",\"zerolinecolor\":\"white\"},\"yaxis\":{\"backgroundcolor\":\"#E5ECF6\",\"gridcolor\":\"white\",\"gridwidth\":2,\"linecolor\":\"white\",\"showbackground\":true,\"ticks\":\"\",\"zerolinecolor\":\"white\"},\"zaxis\":{\"backgroundcolor\":\"#E5ECF6\",\"gridcolor\":\"white\",\"gridwidth\":2,\"linecolor\":\"white\",\"showbackground\":true,\"ticks\":\"\",\"zerolinecolor\":\"white\"}},\"shapedefaults\":{\"line\":{\"color\":\"#2a3f5f\"}},\"ternary\":{\"aaxis\":{\"gridcolor\":\"white\",\"linecolor\":\"white\",\"ticks\":\"\"},\"baxis\":{\"gridcolor\":\"white\",\"linecolor\":\"white\",\"ticks\":\"\"},\"bgcolor\":\"#E5ECF6\",\"caxis\":{\"gridcolor\":\"white\",\"linecolor\":\"white\",\"ticks\":\"\"}},\"title\":{\"x\":0.05},\"xaxis\":{\"automargin\":true,\"gridcolor\":\"white\",\"linecolor\":\"white\",\"ticks\":\"\",\"title\":{\"standoff\":15},\"zerolinecolor\":\"white\",\"zerolinewidth\":2},\"yaxis\":{\"automargin\":true,\"gridcolor\":\"white\",\"linecolor\":\"white\",\"ticks\":\"\",\"title\":{\"standoff\":15},\"zerolinecolor\":\"white\",\"zerolinewidth\":2}}},\"xaxis\":{\"anchor\":\"y\",\"domain\":[0.0,1.0],\"title\":{\"text\":\"likes\"}},\"yaxis\":{\"anchor\":\"x\",\"domain\":[0.0,1.0],\"title\":{\"text\":\"comment_total\"}},\"legend\":{\"tracegroupgap\":0},\"margin\":{\"t\":60}},                        {\"responsive\": true}                    ).then(function(){\n",
              "                            \n",
              "var gd = document.getElementById('024fc458-362d-456c-bff1-41342ed99729');\n",
              "var x = new MutationObserver(function (mutations, observer) {{\n",
              "        var display = window.getComputedStyle(gd).display;\n",
              "        if (!display || display === 'none') {{\n",
              "            console.log([gd, 'removed!']);\n",
              "            Plotly.purge(gd);\n",
              "            observer.disconnect();\n",
              "        }}\n",
              "}});\n",
              "\n",
              "// Listen for the removal of the full notebook cells\n",
              "var notebookContainer = gd.closest('#notebook-container');\n",
              "if (notebookContainer) {{\n",
              "    x.observe(notebookContainer, {childList: true});\n",
              "}}\n",
              "\n",
              "// Listen for the clearing of the current output cell\n",
              "var outputEl = gd.closest('.output');\n",
              "if (outputEl) {{\n",
              "    x.observe(outputEl, {childList: true});\n",
              "}}\n",
              "\n",
              "                        })                };                            </script>        </div>\n",
              "</body>\n",
              "</html>"
            ]
          },
          "metadata": {}
        }
      ]
    },
    {
      "cell_type": "code",
      "source": [
        "pd_df_videos.plot.scatter(\"dislikes\", \"comment_total\")"
      ],
      "metadata": {
        "colab": {
          "base_uri": "https://localhost:8080/",
          "height": 542
        },
        "id": "_IPvWaYQCn2F",
        "outputId": "aa229f7c-9041-4f4e-9781-1fab96a5dc6b"
      },
      "execution_count": null,
      "outputs": [
        {
          "output_type": "display_data",
          "data": {
            "text/html": [
              "<html>\n",
              "<head><meta charset=\"utf-8\" /></head>\n",
              "<body>\n",
              "    <div>            <script src=\"https://cdnjs.cloudflare.com/ajax/libs/mathjax/2.7.5/MathJax.js?config=TeX-AMS-MML_SVG\"></script><script type=\"text/javascript\">if (window.MathJax) {MathJax.Hub.Config({SVG: {font: \"STIX-Web\"}});}</script>                <script type=\"text/javascript\">window.PlotlyConfig = {MathJaxConfig: 'local'};</script>\n",
              "        <script src=\"https://cdn.plot.ly/plotly-2.8.3.min.js\"></script>                <div id=\"115df08a-b4e1-42d9-a435-9c069d42bc76\" class=\"plotly-graph-div\" style=\"height:525px; width:100%;\"></div>            <script type=\"text/javascript\">                                    window.PLOTLYENV=window.PLOTLYENV || {};                                    if (document.getElementById(\"115df08a-b4e1-42d9-a435-9c069d42bc76\")) {                    Plotly.newPlot(                        \"115df08a-b4e1-42d9-a435-9c069d42bc76\",                        [{\"hovertemplate\":\"dislikes=%{x}<br>comment_total=%{y}<extra></extra>\",\"legendgroup\":\"\",\"marker\":{\"color\":\"#636efa\",\"symbol\":\"circle\"},\"mode\":\"markers\",\"name\":\"\",\"orientation\":\"v\",\"showlegend\":false,\"x\":[5931,39774,4542,568,544,297,2180,678,878,726,405,303,477,415,641,300,1531,640,302,3578,270,2196,293,482,352,7550,245,4360,280,359,658,127,6826,731,1252,3,772,247,142,416,137,449,130,522,1060,138,115,34,204,47,1629,967,1999,101,165,323,23,121,226,55,1,9,2180,2543,104,34,69,17,292,19,33,931,103,72,56,677,7,990,10,297,137,2256,626,3925,112,184,24056,93,112,1502,12757,1069,149,297,470,1014,129,197,41,62,266,78,188,4311,2123,452,121,494,1,29,140,2671,27,712,570,67,938,0,493,54,508,16,1054,20,111,195,48,0,22,4,194,16582,0,984,2,47,85,5380,3,2844,0,5,10,458,516,109,221,166,1576,212,995,1918,0,876,68,3490,6597,8649,107,1986,2639,1960,1874,7,140,710,156,11624,51,50,28049,11,1,625,104,2880,393,1128,170,65,712,1567,299,193,1033,353,1017,241,112,67,37,1817,78,465,17479,6101,619,2166,259,1562,46445,457,533,1136,672,560,3067,1286,190,678,596,639,18,5893,549,538,199,870,1035,404,936,43,876,1112,325,244,7146,778,371,863,651,1714,50,538,45,292,30,8158,813,373,793,15,84,68,189,0,306,20,2,277,57,386,343,183,1062,15,81,157,4459,422,5,471,1157,1640,489,9,138,150,1640,741,25,554,181,155,125,1320,37,236,48,228,11,220,115,22,77,4,80,1092,248,60,344,2017,25,3,171,1143,105,266,2723,2276,137,304,996,129,24218,723,2,138,102,11,646,12,2279,5,115,3932,202,39,107,1519,239,117,13164,57,150,1115,304,1038,142,303,41,62,81,190,588,4719,32,514,2128,271,17,469,1,2694,121,27,722,76,472,72,940,0,495,68,49,196,236,1060,113,0,23,4,23,0,2,17328,47,1020,5430,2917,3,0,69,5,463,12,521,110,225,166,1607,86,1000,907,0,8827,521,1086,1186,374,917,4008,1135,604,6687,1015,994,947,1030,767,650,242,3288,1198,775,22023,2547,836,458,6882,59,337,191,210,27,41,1325,96,218,38,228,118,50584,346,755,912,580,1481,3861,28,165,1718,73,94,49,10,670,32,544,1959,34,65,5,52,295,585,737,63,1348,653,68,1,7808,628,3,5,118,976,252,101,48,672,30,1054,9501,297,321,450,0,1135,1099,18,1038,124,986,530,247,29,1625,743,845,446,458,4,1879,63,694,262,15,36,911,307,387,8567,6,37,209,392,817,39,309,1111,16,386,169,1260,4547,41,1848,36,798,156,168,27,65,62,67,748,616,27,1534,196,262,23,12,5,92,213,81,249,10,1188,12,84,46,2033,117,63,48,1652,1322,285,2919,105,46,332,2363,13,143,1003,773,258,102,24306,137,1582,60,648,139,11,122,235,290,129,1541,126,2316,1174,14,101,13695,0,312,148,73,7,41,151,8,12,1065,1342,11446,1613,854,436,4472,3615,1156,978,204,5411,143,229,278,169,527,173,1463,810,1149,163,1606,1001,557,111,1044,1718,547,139,1667,142,419,4440,626,469,729,81,10369,269,55,1556,447,1071,314,378,583,168,520,7,366,129,882,2,43,1247,96,555,140,1597,784,820,778,3871,511,1593,96,73,45,33,200,916,111,240,7,30,585,5,96,111,37,917,22885,35,7120,428,334,4,6,6,3,164,63,234,179,72,98,56,1645,42,52253,808,96,638,22,2104,328,762,52,1486,8998,128,82,823,52,678,553,15,64,138,13,1009,50,265,266,736,146,277,340,10688,1089,485,159,1191,1065,1225,1047,1724,797,378,44,1,35,488,99,8965,872,350,41,788,1997,461,62,21,66,392,961,78,7,1247,216,48,466,29,209,17,36,298,187,5,20,1144,69,419,20,4,13,164,38,1318,83,1989,181,4587,799,200,660,759,14,1664,44,295,283,96,27,10,26,4152,188836,4298,22694,869,1946,206,606,694,475,1420,833,2980,4313,6168,20,134,230,222,843,457,1271,592,2162,151,4288,407,1079,365,460,908,288,201,25,6677,250,2209,9,1597,910,207,23,61,189,1006,1512,1443,127,1268,659,58,100,621,125,476,182,1853,74,53,730,1997,8,338,24,911,442,4577,11581,1883,503,849,547,176,427,203,590,215,614,108,42,406,966,7,54,160,1235,868,7,110,15,8,853,4137,142,1630,1696,0,63,937,106,35,244,184,40,179,114,626,280,5,954,131,23207,447,7231,108,351,34,45,64,243,38,155,19,76,835,644,355,54352,1779,32,141,23,37,68,2175,945,78,60,6,1573,189,685,9636,849,145,63,84,273,3,1031,303,178,352,30,798,11533,16,1141,505,3629,55,13,1080,1357,436,1218,376,6,832,56,569,49,1804,55,48,875,100,9367,0,903,505,1641,50,535,395,67,1160,2060,230,0,998,189,807,218,471,71,659,346,260,3978,9287,354,1249,1831,655,1817,271351,60,1208,655,5553,29669,7077,1336,594,74,30,114,1233,209,1088,3847,357],\"xaxis\":\"x\",\"y\":[46245,170708,12829,6666,3040,1071,15297,5643,4046,1914,2745,726,838,1696,3817,1398,3598,1941,1432,5550,1168,1042,2017,439,2438,23855,1588,9504,3317,3250,2510,524,4838,1073,3868,15,597,1842,524,1079,2154,352,1224,5996,6558,338,827,174,3172,149,889,4097,6229,435,1163,1338,67,537,256,956,7,12,11355,2157,675,96,1087,368,1119,51,201,14935,484,364,434,5311,294,4641,27,2597,582,6878,1927,123,1017,1519,6420,331,789,3881,4103,9275,781,374,663,7114,320,256,344,211,192,2027,439,5708,3359,1663,259,895,16,86,349,15607,146,278,3333,153,381,3,1751,339,1297,36,5521,297,447,517,404,9,143,25,4852,19443,15,3029,10,781,290,23176,22,2242,8,99,2,1771,6361,699,390,876,1470,6348,4863,6584,4,862,246,5872,20989,4896,732,3970,4112,2108,4529,29,335,1299,1282,24246,194,268,100661,62,21,4325,331,6414,2304,8606,334,49,2383,11973,453,396,2138,1559,6257,557,288,80,159,3631,96,2278,52483,16713,6246,19191,1083,6864,190979,2233,977,8733,1353,1367,19758,1783,406,3915,1191,2430,230,7373,3180,8313,2422,4638,4709,1671,6052,115,2347,2510,1845,318,18239,2165,1709,4018,603,4056,299,3886,118,1368,118,24861,2839,2224,642,6,453,311,798,6,3702,20,23,1852,175,2582,3900,705,6077,156,564,587,8750,3563,47,1206,8125,4295,4152,362,1403,2298,920,1139,74,6161,1329,371,937,7936,121,3634,686,494,605,3538,504,114,1180,119,388,4582,286,1003,1407,6311,466,28,385,16645,697,1965,2450,11743,1107,1231,4695,640,6501,5728,13,598,444,54,2081,20,7081,10,1070,147,1635,213,355,3978,331,901,4404,447,800,9470,2612,7196,357,381,357,219,2100,434,3389,6048,85,934,3396,199,50,1746,26,15667,263,150,280,691,680,182,445,7,1792,345,445,521,5468,5684,459,6,159,30,106,21,14,19816,786,3113,23408,2345,26,13,264,105,1772,5,6595,719,395,881,1519,303,4923,909,9,4964,1215,16234,2333,4067,2779,7615,999,1055,102758,2956,4017,10379,9138,866,1943,485,23539,8810,3130,54671,8880,7351,1018,18323,189,2726,477,241,337,201,1106,505,521,250,1915,467,199406,1247,1405,1662,735,9933,22556,92,1008,2237,660,59,404,125,1251,70,1421,14243,1449,937,27,391,1314,3016,4341,210,5073,9323,369,40,7083,1025,21,131,1976,4644,2910,375,213,3650,29,16847,22016,1009,4762,1888,9,5328,3667,156,6290,759,1955,4308,3052,66,3561,766,2352,1616,419,62,3926,186,4383,648,363,137,3139,617,2360,21046,79,1537,942,4188,5114,36,2088,6460,419,3079,666,8703,9039,121,4710,251,684,1554,2502,153,239,395,726,1055,6399,72,7761,1307,3918,206,160,33,511,471,1249,3845,67,4244,258,441,754,4709,547,1109,140,954,15557,1634,2275,661,264,1094,12177,679,1203,4730,6239,278,467,6466,699,36,471,1686,602,85,1128,1461,413,982,3989,361,7275,9680,29,537,4523,31,2277,591,693,27,274,393,111,45,7331,6369,21514,1053,1188,1551,15358,5460,1227,2083,256,21570,582,6046,1987,991,2111,1688,18215,20228,8206,1768,1653,1655,5332,1028,2429,1406,947,910,3646,244,3212,6835,26197,4710,8910,676,125246,1966,349,9813,2126,5084,1019,3828,4296,3935,2221,146,309,92,11988,25,366,3796,298,1540,5376,1094,2211,850,930,24307,1287,9973,511,374,440,133,648,2990,509,645,77,634,3046,41,800,568,569,7757,39626,78,12812,1053,1398,30,34,148,43,587,272,590,1079,630,417,495,8941,330,128771,1274,1260,1090,206,14662,757,3693,65,4335,7885,467,415,3534,303,9616,4567,228,2344,2092,141,4799,95,3230,3055,3150,829,2029,3578,19783,17391,1597,1294,4421,4470,3903,2096,2817,653,1169,1633,101,1584,1748,91,21513,2118,695,193,4556,4192,4530,421,311,235,2476,2753,679,94,6124,995,125,429,81,2479,435,183,767,632,81,487,6731,438,3367,826,79,124,1378,319,8985,250,5079,2266,9142,724,1361,5581,1124,116,8363,145,2967,3416,554,96,17,259,21600,101387,2607,31875,11670,8408,393,2341,4684,1415,2204,1123,6153,15172,19388,66,1429,3756,1573,2324,2187,8973,942,1957,667,6514,462,1724,6094,2545,3164,1193,558,166,23243,2322,1899,67,18934,21538,1940,260,238,1149,24267,9159,2311,537,1500,1094,438,542,5921,809,1232,289,1573,452,809,4923,3552,22,2222,126,6799,3329,6973,157635,10698,3601,730,2342,1870,4096,4159,2065,1817,1378,318,140,315,12703,78,498,4534,4211,1789,37,597,107,51,1041,19035,574,1099,8481,7,158,3003,785,560,526,888,646,709,518,3133,863,32,5702,93,38850,1094,12823,336,620,117,387,346,451,49,1693,83,668,1199,1001,1251,130106,9107,890,366,216,201,53,14951,3755,2583,136,112,4566,828,6640,8211,3314,2160,139,344,2529,55,4786,1618,1029,3744,275,3205,20901,229,17755,1567,20727,1421,119,2004,4118,1001,4278,561,140,600,3,3593,179,2885,110,1643,4609,68,21853,29,2137,3930,5891,236,1743,1988,176,6931,4287,872,11,2705,2291,658,2483,407,302,3316,629,533,30850,31293,761,5175,12621,940,3875,85949,69,3328,3183,2636,31425,11177,12968,2890,170,53,53,1073,1224,3914,4893,4613],\"yaxis\":\"y\",\"type\":\"scatter\"}],                        {\"template\":{\"data\":{\"bar\":[{\"error_x\":{\"color\":\"#2a3f5f\"},\"error_y\":{\"color\":\"#2a3f5f\"},\"marker\":{\"line\":{\"color\":\"#E5ECF6\",\"width\":0.5},\"pattern\":{\"fillmode\":\"overlay\",\"size\":10,\"solidity\":0.2}},\"type\":\"bar\"}],\"barpolar\":[{\"marker\":{\"line\":{\"color\":\"#E5ECF6\",\"width\":0.5},\"pattern\":{\"fillmode\":\"overlay\",\"size\":10,\"solidity\":0.2}},\"type\":\"barpolar\"}],\"carpet\":[{\"aaxis\":{\"endlinecolor\":\"#2a3f5f\",\"gridcolor\":\"white\",\"linecolor\":\"white\",\"minorgridcolor\":\"white\",\"startlinecolor\":\"#2a3f5f\"},\"baxis\":{\"endlinecolor\":\"#2a3f5f\",\"gridcolor\":\"white\",\"linecolor\":\"white\",\"minorgridcolor\":\"white\",\"startlinecolor\":\"#2a3f5f\"},\"type\":\"carpet\"}],\"choropleth\":[{\"colorbar\":{\"outlinewidth\":0,\"ticks\":\"\"},\"type\":\"choropleth\"}],\"contour\":[{\"colorbar\":{\"outlinewidth\":0,\"ticks\":\"\"},\"colorscale\":[[0.0,\"#0d0887\"],[0.1111111111111111,\"#46039f\"],[0.2222222222222222,\"#7201a8\"],[0.3333333333333333,\"#9c179e\"],[0.4444444444444444,\"#bd3786\"],[0.5555555555555556,\"#d8576b\"],[0.6666666666666666,\"#ed7953\"],[0.7777777777777778,\"#fb9f3a\"],[0.8888888888888888,\"#fdca26\"],[1.0,\"#f0f921\"]],\"type\":\"contour\"}],\"contourcarpet\":[{\"colorbar\":{\"outlinewidth\":0,\"ticks\":\"\"},\"type\":\"contourcarpet\"}],\"heatmap\":[{\"colorbar\":{\"outlinewidth\":0,\"ticks\":\"\"},\"colorscale\":[[0.0,\"#0d0887\"],[0.1111111111111111,\"#46039f\"],[0.2222222222222222,\"#7201a8\"],[0.3333333333333333,\"#9c179e\"],[0.4444444444444444,\"#bd3786\"],[0.5555555555555556,\"#d8576b\"],[0.6666666666666666,\"#ed7953\"],[0.7777777777777778,\"#fb9f3a\"],[0.8888888888888888,\"#fdca26\"],[1.0,\"#f0f921\"]],\"type\":\"heatmap\"}],\"heatmapgl\":[{\"colorbar\":{\"outlinewidth\":0,\"ticks\":\"\"},\"colorscale\":[[0.0,\"#0d0887\"],[0.1111111111111111,\"#46039f\"],[0.2222222222222222,\"#7201a8\"],[0.3333333333333333,\"#9c179e\"],[0.4444444444444444,\"#bd3786\"],[0.5555555555555556,\"#d8576b\"],[0.6666666666666666,\"#ed7953\"],[0.7777777777777778,\"#fb9f3a\"],[0.8888888888888888,\"#fdca26\"],[1.0,\"#f0f921\"]],\"type\":\"heatmapgl\"}],\"histogram\":[{\"marker\":{\"pattern\":{\"fillmode\":\"overlay\",\"size\":10,\"solidity\":0.2}},\"type\":\"histogram\"}],\"histogram2d\":[{\"colorbar\":{\"outlinewidth\":0,\"ticks\":\"\"},\"colorscale\":[[0.0,\"#0d0887\"],[0.1111111111111111,\"#46039f\"],[0.2222222222222222,\"#7201a8\"],[0.3333333333333333,\"#9c179e\"],[0.4444444444444444,\"#bd3786\"],[0.5555555555555556,\"#d8576b\"],[0.6666666666666666,\"#ed7953\"],[0.7777777777777778,\"#fb9f3a\"],[0.8888888888888888,\"#fdca26\"],[1.0,\"#f0f921\"]],\"type\":\"histogram2d\"}],\"histogram2dcontour\":[{\"colorbar\":{\"outlinewidth\":0,\"ticks\":\"\"},\"colorscale\":[[0.0,\"#0d0887\"],[0.1111111111111111,\"#46039f\"],[0.2222222222222222,\"#7201a8\"],[0.3333333333333333,\"#9c179e\"],[0.4444444444444444,\"#bd3786\"],[0.5555555555555556,\"#d8576b\"],[0.6666666666666666,\"#ed7953\"],[0.7777777777777778,\"#fb9f3a\"],[0.8888888888888888,\"#fdca26\"],[1.0,\"#f0f921\"]],\"type\":\"histogram2dcontour\"}],\"mesh3d\":[{\"colorbar\":{\"outlinewidth\":0,\"ticks\":\"\"},\"type\":\"mesh3d\"}],\"parcoords\":[{\"line\":{\"colorbar\":{\"outlinewidth\":0,\"ticks\":\"\"}},\"type\":\"parcoords\"}],\"pie\":[{\"automargin\":true,\"type\":\"pie\"}],\"scatter\":[{\"marker\":{\"colorbar\":{\"outlinewidth\":0,\"ticks\":\"\"}},\"type\":\"scatter\"}],\"scatter3d\":[{\"line\":{\"colorbar\":{\"outlinewidth\":0,\"ticks\":\"\"}},\"marker\":{\"colorbar\":{\"outlinewidth\":0,\"ticks\":\"\"}},\"type\":\"scatter3d\"}],\"scattercarpet\":[{\"marker\":{\"colorbar\":{\"outlinewidth\":0,\"ticks\":\"\"}},\"type\":\"scattercarpet\"}],\"scattergeo\":[{\"marker\":{\"colorbar\":{\"outlinewidth\":0,\"ticks\":\"\"}},\"type\":\"scattergeo\"}],\"scattergl\":[{\"marker\":{\"colorbar\":{\"outlinewidth\":0,\"ticks\":\"\"}},\"type\":\"scattergl\"}],\"scattermapbox\":[{\"marker\":{\"colorbar\":{\"outlinewidth\":0,\"ticks\":\"\"}},\"type\":\"scattermapbox\"}],\"scatterpolar\":[{\"marker\":{\"colorbar\":{\"outlinewidth\":0,\"ticks\":\"\"}},\"type\":\"scatterpolar\"}],\"scatterpolargl\":[{\"marker\":{\"colorbar\":{\"outlinewidth\":0,\"ticks\":\"\"}},\"type\":\"scatterpolargl\"}],\"scatterternary\":[{\"marker\":{\"colorbar\":{\"outlinewidth\":0,\"ticks\":\"\"}},\"type\":\"scatterternary\"}],\"surface\":[{\"colorbar\":{\"outlinewidth\":0,\"ticks\":\"\"},\"colorscale\":[[0.0,\"#0d0887\"],[0.1111111111111111,\"#46039f\"],[0.2222222222222222,\"#7201a8\"],[0.3333333333333333,\"#9c179e\"],[0.4444444444444444,\"#bd3786\"],[0.5555555555555556,\"#d8576b\"],[0.6666666666666666,\"#ed7953\"],[0.7777777777777778,\"#fb9f3a\"],[0.8888888888888888,\"#fdca26\"],[1.0,\"#f0f921\"]],\"type\":\"surface\"}],\"table\":[{\"cells\":{\"fill\":{\"color\":\"#EBF0F8\"},\"line\":{\"color\":\"white\"}},\"header\":{\"fill\":{\"color\":\"#C8D4E3\"},\"line\":{\"color\":\"white\"}},\"type\":\"table\"}]},\"layout\":{\"annotationdefaults\":{\"arrowcolor\":\"#2a3f5f\",\"arrowhead\":0,\"arrowwidth\":1},\"autotypenumbers\":\"strict\",\"coloraxis\":{\"colorbar\":{\"outlinewidth\":0,\"ticks\":\"\"}},\"colorscale\":{\"diverging\":[[0,\"#8e0152\"],[0.1,\"#c51b7d\"],[0.2,\"#de77ae\"],[0.3,\"#f1b6da\"],[0.4,\"#fde0ef\"],[0.5,\"#f7f7f7\"],[0.6,\"#e6f5d0\"],[0.7,\"#b8e186\"],[0.8,\"#7fbc41\"],[0.9,\"#4d9221\"],[1,\"#276419\"]],\"sequential\":[[0.0,\"#0d0887\"],[0.1111111111111111,\"#46039f\"],[0.2222222222222222,\"#7201a8\"],[0.3333333333333333,\"#9c179e\"],[0.4444444444444444,\"#bd3786\"],[0.5555555555555556,\"#d8576b\"],[0.6666666666666666,\"#ed7953\"],[0.7777777777777778,\"#fb9f3a\"],[0.8888888888888888,\"#fdca26\"],[1.0,\"#f0f921\"]],\"sequentialminus\":[[0.0,\"#0d0887\"],[0.1111111111111111,\"#46039f\"],[0.2222222222222222,\"#7201a8\"],[0.3333333333333333,\"#9c179e\"],[0.4444444444444444,\"#bd3786\"],[0.5555555555555556,\"#d8576b\"],[0.6666666666666666,\"#ed7953\"],[0.7777777777777778,\"#fb9f3a\"],[0.8888888888888888,\"#fdca26\"],[1.0,\"#f0f921\"]]},\"colorway\":[\"#636efa\",\"#EF553B\",\"#00cc96\",\"#ab63fa\",\"#FFA15A\",\"#19d3f3\",\"#FF6692\",\"#B6E880\",\"#FF97FF\",\"#FECB52\"],\"font\":{\"color\":\"#2a3f5f\"},\"geo\":{\"bgcolor\":\"white\",\"lakecolor\":\"white\",\"landcolor\":\"#E5ECF6\",\"showlakes\":true,\"showland\":true,\"subunitcolor\":\"white\"},\"hoverlabel\":{\"align\":\"left\"},\"hovermode\":\"closest\",\"mapbox\":{\"style\":\"light\"},\"paper_bgcolor\":\"white\",\"plot_bgcolor\":\"#E5ECF6\",\"polar\":{\"angularaxis\":{\"gridcolor\":\"white\",\"linecolor\":\"white\",\"ticks\":\"\"},\"bgcolor\":\"#E5ECF6\",\"radialaxis\":{\"gridcolor\":\"white\",\"linecolor\":\"white\",\"ticks\":\"\"}},\"scene\":{\"xaxis\":{\"backgroundcolor\":\"#E5ECF6\",\"gridcolor\":\"white\",\"gridwidth\":2,\"linecolor\":\"white\",\"showbackground\":true,\"ticks\":\"\",\"zerolinecolor\":\"white\"},\"yaxis\":{\"backgroundcolor\":\"#E5ECF6\",\"gridcolor\":\"white\",\"gridwidth\":2,\"linecolor\":\"white\",\"showbackground\":true,\"ticks\":\"\",\"zerolinecolor\":\"white\"},\"zaxis\":{\"backgroundcolor\":\"#E5ECF6\",\"gridcolor\":\"white\",\"gridwidth\":2,\"linecolor\":\"white\",\"showbackground\":true,\"ticks\":\"\",\"zerolinecolor\":\"white\"}},\"shapedefaults\":{\"line\":{\"color\":\"#2a3f5f\"}},\"ternary\":{\"aaxis\":{\"gridcolor\":\"white\",\"linecolor\":\"white\",\"ticks\":\"\"},\"baxis\":{\"gridcolor\":\"white\",\"linecolor\":\"white\",\"ticks\":\"\"},\"bgcolor\":\"#E5ECF6\",\"caxis\":{\"gridcolor\":\"white\",\"linecolor\":\"white\",\"ticks\":\"\"}},\"title\":{\"x\":0.05},\"xaxis\":{\"automargin\":true,\"gridcolor\":\"white\",\"linecolor\":\"white\",\"ticks\":\"\",\"title\":{\"standoff\":15},\"zerolinecolor\":\"white\",\"zerolinewidth\":2},\"yaxis\":{\"automargin\":true,\"gridcolor\":\"white\",\"linecolor\":\"white\",\"ticks\":\"\",\"title\":{\"standoff\":15},\"zerolinecolor\":\"white\",\"zerolinewidth\":2}}},\"xaxis\":{\"anchor\":\"y\",\"domain\":[0.0,1.0],\"title\":{\"text\":\"dislikes\"}},\"yaxis\":{\"anchor\":\"x\",\"domain\":[0.0,1.0],\"title\":{\"text\":\"comment_total\"}},\"legend\":{\"tracegroupgap\":0},\"margin\":{\"t\":60}},                        {\"responsive\": true}                    ).then(function(){\n",
              "                            \n",
              "var gd = document.getElementById('115df08a-b4e1-42d9-a435-9c069d42bc76');\n",
              "var x = new MutationObserver(function (mutations, observer) {{\n",
              "        var display = window.getComputedStyle(gd).display;\n",
              "        if (!display || display === 'none') {{\n",
              "            console.log([gd, 'removed!']);\n",
              "            Plotly.purge(gd);\n",
              "            observer.disconnect();\n",
              "        }}\n",
              "}});\n",
              "\n",
              "// Listen for the removal of the full notebook cells\n",
              "var notebookContainer = gd.closest('#notebook-container');\n",
              "if (notebookContainer) {{\n",
              "    x.observe(notebookContainer, {childList: true});\n",
              "}}\n",
              "\n",
              "// Listen for the clearing of the current output cell\n",
              "var outputEl = gd.closest('.output');\n",
              "if (outputEl) {{\n",
              "    x.observe(outputEl, {childList: true});\n",
              "}}\n",
              "\n",
              "                        })                };                            </script>        </div>\n",
              "</body>\n",
              "</html>"
            ]
          },
          "metadata": {}
        }
      ]
    },
    {
      "cell_type": "markdown",
      "source": [
        "### EDA Analysis  \n",
        "The two above plots show the likes and dislikes versus the amount of comments total. After viewing both plots it is clear to see that the amount of dislikes contributes more towards the amount of comments than the amount of likes. An inference from this is that a video with more dislikes is more likely to have more comments than a video with more likes."
      ],
      "metadata": {
        "id": "Pm3lYn9rDrZX"
      }
    },
    {
      "cell_type": "code",
      "source": [],
      "metadata": {
        "id": "ZlZpxdcCEGT_"
      },
      "execution_count": null,
      "outputs": []
    }
  ],
  "metadata": {
    "colab": {
      "provenance": [],
      "include_colab_link": true
    },
    "kernelspec": {
      "display_name": "Python 3",
      "name": "python3"
    },
    "language_info": {
      "name": "python"
    }
  },
  "nbformat": 4,
  "nbformat_minor": 0
}